{
  "nbformat": 4,
  "nbformat_minor": 0,
  "metadata": {
    "colab": {
      "name": "JuanHurtado - AG2.ipynb",
      "provenance": [],
      "authorship_tag": "ABX9TyOpP/i1WJl3DDEpjk7mWPct",
      "include_colab_link": true
    },
    "kernelspec": {
      "name": "python3",
      "display_name": "Python 3"
    }
  },
  "cells": [
    {
      "cell_type": "markdown",
      "metadata": {
        "id": "view-in-github",
        "colab_type": "text"
      },
      "source": [
        "<a href=\"https://colab.research.google.com/github/jignacioh/03MAIR---Algoritmos-de-Optimizacion---2019/blob/master/AG2/JuanHurtado_AG2.ipynb\" target=\"_parent\"><img src=\"https://colab.research.google.com/assets/colab-badge.svg\" alt=\"Open In Colab\"/></a>"
      ]
    },
    {
      "cell_type": "code",
      "metadata": {
        "id": "Ogi-k6d2xWCO",
        "colab_type": "code",
        "colab": {}
      },
      "source": [
        "#Actividad Guiada de Algoritmos de Optimizacion</BR>\n",
        "#Juan Hurtado</BR>\n",
        "#https://colab.research.google.com/drive/1iKFIk8PGevvdGpwTaplXELYFDuLYBNyV"
      ],
      "execution_count": 0,
      "outputs": []
    },
    {
      "cell_type": "markdown",
      "metadata": {
        "id": "rKu3Xvy4xyAc",
        "colab_type": "text"
      },
      "source": [
        "Actividad Guiada de Algoritmos de Optimizacion</BR>\n",
        "Juan Hurtado</BR>\n",
        "https://colab.research.google.com/drive/1iKFIk8PGevvdGpwTaplXELYFDuLYBNyV"
      ]
    },
    {
      "cell_type": "markdown",
      "metadata": {
        "id": "8T3H_xiAx5UW",
        "colab_type": "text"
      },
      "source": [
        "PROGRAMACION DINAMICA\n"
      ]
    },
    {
      "cell_type": "markdown",
      "metadata": {
        "id": "l4M67_Wb8N0f",
        "colab_type": "text"
      },
      "source": [
        "1. PROBLEMA VIAJE DEL RIO"
      ]
    },
    {
      "cell_type": "code",
      "metadata": {
        "id": "Emavr8cs5lr3",
        "colab_type": "code",
        "colab": {}
      },
      "source": [
        "\n",
        "# Muestra costo del nodo i a los siguientes (0 al 1 es 5, 0 al 2 es 4, ..., en el caso de 999 significa que no puede ir a ese\n",
        "# desde el nodo i)\n",
        "TARIFAS = [\n",
        "[0,5,4,3,999,999,999],\n",
        "[999,0,999,2,3,999,11],\n",
        "[999,999, 0,1,999,4,10],\n",
        "[999,999,999, 0,5,6,9],\n",
        "[999,999, 999,999,0,999,4],\n",
        "[999,999, 999,999,999,0,3],\n",
        "[999,999,999,999,999,999,0]\n",
        "]"
      ],
      "execution_count": 0,
      "outputs": []
    },
    {
      "cell_type": "code",
      "metadata": {
        "id": "J7APNGDw5mUg",
        "colab_type": "code",
        "colab": {}
      },
      "source": [
        "# Calcular el precio de ir de un nodo a otro\n",
        "def Precios(TARIFAS):\n",
        "  ################################################################  \n",
        "  #Total de Nodos\n",
        "  N = len(TARIFAS[0])\n",
        "  \n",
        "  #Inicialización de la tabla de precios\n",
        "  # Inicialmente con valores altos\n",
        "  PRECIOS = [ [9999]*N for i in [9999]*N] #nxn\n",
        "  RUTA = [ [\"\"]*N for i in [\"\"]*N]\n",
        "  \n",
        "  # Recorre todo desde el nodo i\n",
        "  for i in range(N-1):\n",
        "    for j in range(i+1, N):\n",
        "      # se toma como minimo la distancia entre i y j \n",
        "      MIN = TARIFAS[i][j]\n",
        "      RUTA[i][j] = i\n",
        "      \n",
        "      # iteracion sobre los valores intermedios\n",
        "      for k in range(i, j):\n",
        "        # se busca el mejor k para ir de i a j, solucion parcial\n",
        "        if PRECIOS[i][k] + TARIFAS[k][j] < MIN:\n",
        "            MIN = min(MIN, PRECIOS[i][k] + TARIFAS[k][j] )\n",
        "            RUTA[i][j] = k\n",
        "        PRECIOS[i][j] = MIN\n",
        "        \n",
        "  return PRECIOS,RUTA"
      ],
      "execution_count": 0,
      "outputs": []
    },
    {
      "cell_type": "code",
      "metadata": {
        "id": "rImbFTOD6rmi",
        "colab_type": "code",
        "colab": {}
      },
      "source": [
        "PRECIOS, RUTA = Precios(TARIFAS)"
      ],
      "execution_count": 0,
      "outputs": []
    },
    {
      "cell_type": "code",
      "metadata": {
        "id": "TaFojs0g-NrF",
        "colab_type": "code",
        "colab": {
          "base_uri": "https://localhost:8080/",
          "height": 312
        },
        "outputId": "8f7b9659-8a78-432e-eab6-8d0c2dc86c75"
      },
      "source": [
        " #print(PRECIOS[0][6])\n",
        "print(\"PRECIOS\")\n",
        "\n",
        "# \n",
        "for i in range(len(TARIFAS)):\n",
        "  print(PRECIOS[i])\n",
        "\n",
        "# Muestra por cual nodos pasar para llegar al destino\n",
        "# 0 a 0, ''\n",
        "# 0 a 1, paso por 0\n",
        "# 0 a 4, paso por 1\n",
        "# '' significa que el origen es igual al destino\n",
        "print(\"\\nRUTA\")  \n",
        "for i in range(len(TARIFAS)):\n",
        "  print(RUTA[i])"
      ],
      "execution_count": 9,
      "outputs": [
        {
          "output_type": "stream",
          "text": [
            "PRECIOS\n",
            "[9999, 5, 4, 3, 8, 8, 11]\n",
            "[9999, 9999, 999, 2, 3, 8, 7]\n",
            "[9999, 9999, 9999, 1, 6, 4, 7]\n",
            "[9999, 9999, 9999, 9999, 5, 6, 9]\n",
            "[9999, 9999, 9999, 9999, 9999, 999, 4]\n",
            "[9999, 9999, 9999, 9999, 9999, 9999, 3]\n",
            "[9999, 9999, 9999, 9999, 9999, 9999, 9999]\n",
            "\n",
            "RUTA\n",
            "['', 0, 0, 0, 1, 2, 5]\n",
            "['', '', 1, 1, 1, 3, 4]\n",
            "['', '', '', 2, 3, 2, 5]\n",
            "['', '', '', '', 3, 3, 3]\n",
            "['', '', '', '', '', 4, 4]\n",
            "['', '', '', '', '', '', 5]\n",
            "['', '', '', '', '', '', '']\n"
          ],
          "name": "stdout"
        }
      ]
    },
    {
      "cell_type": "code",
      "metadata": {
        "id": "vSvftCmO5xDS",
        "colab_type": "code",
        "colab": {
          "base_uri": "https://localhost:8080/",
          "height": 86
        },
        "outputId": "3a52bc90-6cdc-4927-bcd2-0c4ab3350315"
      },
      "source": [
        "def calcular_ruta(RUTA, desde, hasta):\n",
        "  if desde == hasta:\n",
        "    print(\"Ir a :\" + str(desde))\n",
        "    return desde \n",
        "  else:\n",
        "    # usamos la recursividad para ir del origen al mejor nodo(s) intermedio\n",
        "    return str(calcular_ruta(RUTA, desde, RUTA[desde][hasta])) +  ',' + str(RUTA[desde][hasta]) \n",
        "\n",
        "print(\"\\nLa ruta es:\")  \n",
        "calcular_ruta(RUTA, 1,6) "
      ],
      "execution_count": 12,
      "outputs": [
        {
          "output_type": "stream",
          "text": [
            "\n",
            "La ruta es:\n",
            "Ir a :1\n"
          ],
          "name": "stdout"
        },
        {
          "output_type": "execute_result",
          "data": {
            "text/plain": [
              "'1,1,4'"
            ]
          },
          "metadata": {
            "tags": []
          },
          "execution_count": 12
        }
      ]
    },
    {
      "cell_type": "markdown",
      "metadata": {
        "id": "fbKOVq7J8YAf",
        "colab_type": "text"
      },
      "source": [
        "RAMIFICACION Y PODA"
      ]
    },
    {
      "cell_type": "markdown",
      "metadata": {
        "id": "FQboObYZ8eiz",
        "colab_type": "text"
      },
      "source": [
        " 2. ASIGNACION DE TAREAS"
      ]
    },
    {
      "cell_type": "code",
      "metadata": {
        "id": "0vJdB2yG85dF",
        "colab_type": "code",
        "colab": {}
      },
      "source": [
        "COSTES=[[11,12,18,40],\n",
        "        [14,15,13,22],\n",
        "        [11,17,19,23],\n",
        "        [17,14,20,28]]"
      ],
      "execution_count": 0,
      "outputs": []
    },
    {
      "cell_type": "code",
      "metadata": {
        "id": "n1KYR-zl9BjM",
        "colab_type": "code",
        "colab": {}
      },
      "source": [
        "def valor(S,COSTES):\n",
        "  VALOR = 0\n",
        "  for i in range(len(S)):\n",
        "    VALOR += COSTES[S[i]][i] \n",
        "  return VALOR\n",
        "  \n"
      ],
      "execution_count": 0,
      "outputs": []
    },
    {
      "cell_type": "code",
      "metadata": {
        "id": "OR8g61wi9RCp",
        "colab_type": "code",
        "colab": {
          "base_uri": "https://localhost:8080/",
          "height": 34
        },
        "outputId": "87d707f7-8e03-4d40-978b-3957058d19c8"
      },
      "source": [
        "# Costo de asignar las tareas a los agentes \n",
        "# agente 0, tarea 0\n",
        "# agente 1, tarea 1\n",
        "# se suma el costo dependiendo posicione en la matriz\n",
        "valor((0, 1, 2, 3),COSTES)"
      ],
      "execution_count": 22,
      "outputs": [
        {
          "output_type": "execute_result",
          "data": {
            "text/plain": [
              "73"
            ]
          },
          "metadata": {
            "tags": []
          },
          "execution_count": 22
        }
      ]
    },
    {
      "cell_type": "code",
      "metadata": {
        "id": "BUSxw0d3-Hda",
        "colab_type": "code",
        "colab": {}
      },
      "source": [
        "import itertools\n",
        "def asignar_tareas_FB(COSTES):\n",
        "  mejor_valor=10e10\n",
        "  mejor_solucion= ()\n",
        "  print(len(COSTES))\n",
        "  print(list(itertools.permutations(range(len(COSTES)))))\n",
        "  for s in list(itertools.permutations(range(len(COSTES)))):\n",
        "    valor_tmp = valor(s,COSTES)\n",
        "    if valor_tmp < mejor_valor:\n",
        "      mejor_valor = valor_tmp\n",
        "      mejor_solucion = s\n",
        "  print(\"La mejor solucion es: \", mejor_solucion,\" con valor: \", mejor_valor)"
      ],
      "execution_count": 0,
      "outputs": []
    },
    {
      "cell_type": "code",
      "metadata": {
        "id": "QHZk8dG4_KPC",
        "colab_type": "code",
        "colab": {
          "base_uri": "https://localhost:8080/",
          "height": 89
        },
        "outputId": "0e7497cb-5450-4a6e-e44c-272f15a50db1"
      },
      "source": [
        "asignar_tareas_FB(COSTES)"
      ],
      "execution_count": 39,
      "outputs": [
        {
          "output_type": "stream",
          "text": [
            "4\n",
            "[(0, 1, 2, 3), (0, 1, 3, 2), (0, 2, 1, 3), (0, 2, 3, 1), (0, 3, 1, 2), (0, 3, 2, 1), (1, 0, 2, 3), (1, 0, 3, 2), (1, 2, 0, 3), (1, 2, 3, 0), (1, 3, 0, 2), (1, 3, 2, 0), (2, 0, 1, 3), (2, 0, 3, 1), (2, 1, 0, 3), (2, 1, 3, 0), (2, 3, 0, 1), (2, 3, 1, 0), (3, 0, 1, 2), (3, 0, 2, 1), (3, 1, 0, 2), (3, 1, 2, 0), (3, 2, 0, 1), (3, 2, 1, 0)]\n",
            "La mejor solucion es:  (0, 3, 1, 2)  con valor:  61\n"
          ],
          "name": "stdout"
        }
      ]
    },
    {
      "cell_type": "code",
      "metadata": {
        "id": "D2H2YlokAVaU",
        "colab_type": "code",
        "colab": {}
      },
      "source": [
        "# COTA INFERIOR -- SOLUCIONES PARCIALES\n",
        "#  (1,3,) Se asigna la tarea 1 al agente 0 y la tarea 3 al agente 1\n",
        "def CI(S,COSTES):\n",
        "  VALOR = 0\n",
        "  #Valores establecidos segun la matriz\n",
        "  for i in range(len(S)):\n",
        "    VALOR += COSTES[i][S[i]]\n",
        "\n",
        "  #Estimacion\n",
        "  for i in range(len(COSTES)):\n",
        "\n",
        "    if i not in S:\n",
        "      VALOR += min( [ COSTES[j][i] for j in range(len(S), len(COSTES))  ])\n",
        "  return VALOR"
      ],
      "execution_count": 0,
      "outputs": []
    },
    {
      "cell_type": "code",
      "metadata": {
        "id": "oWGdREKHAl3g",
        "colab_type": "code",
        "colab": {}
      },
      "source": [
        "#Genera tantos hijos como como posibilidades haya para la siguiente elemento de la tupla\n",
        "#(0,) -> (0,1), (0,2), (0,3)\n",
        "def crear_hijos(NODO, N):\n",
        "  HIJOS = []\n",
        "  for i in range(N):\n",
        "\n",
        "    if i not in NODO:\n",
        "      HIJOS.append({'s':NODO +(i,)})\n",
        "  return HIJOS"
      ],
      "execution_count": 0,
      "outputs": []
    },
    {
      "cell_type": "code",
      "metadata": {
        "id": "DcK7IYJyFIXr",
        "colab_type": "code",
        "colab": {}
      },
      "source": [
        "def ramificacion_y_poda(COSTES):\n",
        "  #Construccion iterativa de soluciones(arbol). En cada etapa asignamos un agente(ramas).\n",
        "  #Nodos del grafo  { s:(1,2),CI:3,CS:5  }\n",
        "\n",
        "  print(COSTES)\n",
        "  DIMENSION = len(COSTES)  \n",
        "  MEJOR_SOLUCION=tuple( i for i in range(len(COSTES)) )\n",
        "  # Con la funcion valor generamos una solucion cualquiera\n",
        "  CotaSup = valor(MEJOR_SOLUCION,COSTES)\n",
        "  print(\"Cota Superior:\", CotaSup)\n",
        "\n",
        "  # en NODOS se almacenan los nodos que hay que explorar\n",
        "  NODOS=[]\n",
        "  NODOS.append({'s':(), 'ci':CI((),COSTES)    } )\n",
        "\n",
        "  iteracion = 0\n",
        "\n",
        "  # MIentras tengamos NODOS que explorar\n",
        "  while( len(NODOS) > 0):\n",
        "    iteracion +=1\n",
        "\n",
        "    # Elegimos aquel NODO con la cota inferior mas pequeña\n",
        "    nodo_prometedor = [ min(NODOS, key=lambda x:x['ci']) ][0]['s']\n",
        "    print(\"Nodo prometedor:\", nodo_prometedor)\n",
        "\n",
        "    #Ramificacion\n",
        "    #Se generan los hijos por cada nodo\n",
        "    HIJOS =[ {'s':x['s'], 'ci':CI(x['s'], COSTES)   } for x in crear_hijos(nodo_prometedor, DIMENSION) ]\n",
        "\n",
        "    #Revisamos la cota superior y nos quedamos con la mejor solucion si llegamos a una solucion final\n",
        "    NODO_FINAL = [x for x in HIJOS if len(x['s']) == DIMENSION  ]\n",
        "    if len(NODO_FINAL ) >0: \n",
        "      # Compara cota inferior con la superior, si es menor se toma como solucion final\n",
        "      print(\"\\n********Soluciones:\",  [x for x in HIJOS if len(x['s']) == DIMENSION  ] )\n",
        "      if NODO_FINAL[0]['ci'] < CotaSup:\n",
        "        CotaSup = NODO_FINAL[0]['ci']\n",
        "        MEJOR_SOLUCION = NODO_FINAL\n",
        " \n",
        "    #Poda\n",
        "    HIJOS = [x for x in HIJOS if x['ci'] < CotaSup   ]\n",
        "\n",
        "    #Añadimos los hijos \n",
        "    NODOS.extend(HIJOS) \n",
        "\n",
        "    #Eliminamos el nodo ramificado nodo_prometedor,\n",
        "    NODOS =  [  x for x in NODOS if x['s'] != nodo_prometedor    ]\n",
        "   \n",
        "    print(\"La solucion final es:\" ,MEJOR_SOLUCION , \" en \" , iteracion , \" iteraciones\" , \" para dimension: \" ,DIMENSION  )"
      ],
      "execution_count": 0,
      "outputs": []
    },
    {
      "cell_type": "code",
      "metadata": {
        "id": "7lMNm9cZFpfK",
        "colab_type": "code",
        "colab": {
          "base_uri": "https://localhost:8080/",
          "height": 677
        },
        "outputId": "0e16502a-1e87-4c90-bb31-18f536f801cd"
      },
      "source": [
        "ramificacion_y_poda(COSTES)"
      ],
      "execution_count": 35,
      "outputs": [
        {
          "output_type": "stream",
          "text": [
            "[[11, 12, 18, 40], [14, 15, 13, 22], [11, 17, 19, 23], [17, 14, 20, 28]]\n",
            "Cota Superior: 73\n",
            "Nodo prometedor: ()\n",
            "La solucion final es: (0, 1, 2, 3)  en  1  iteraciones  para dimension:  4\n",
            "Nodo prometedor: (1,)\n",
            "La solucion final es: (0, 1, 2, 3)  en  2  iteraciones  para dimension:  4\n",
            "Nodo prometedor: (1, 2)\n",
            "La solucion final es: (0, 1, 2, 3)  en  3  iteraciones  para dimension:  4\n",
            "Nodo prometedor: (0,)\n",
            "La solucion final es: (0, 1, 2, 3)  en  4  iteraciones  para dimension:  4\n",
            "Nodo prometedor: (0, 2)\n",
            "La solucion final es: (0, 1, 2, 3)  en  5  iteraciones  para dimension:  4\n",
            "Nodo prometedor: (0, 2, 3)\n",
            "\n",
            "********Soluciones: [{'s': (0, 2, 3, 1), 'ci': 61}]\n",
            "La solucion final es: [{'s': (0, 2, 3, 1), 'ci': 61}]  en  6  iteraciones  para dimension:  4\n",
            "Nodo prometedor: (1, 3)\n",
            "La solucion final es: [{'s': (0, 2, 3, 1), 'ci': 61}]  en  7  iteraciones  para dimension:  4\n",
            "Nodo prometedor: (1, 2, 0)\n",
            "\n",
            "********Soluciones: [{'s': (1, 2, 0, 3), 'ci': 64}]\n",
            "La solucion final es: [{'s': (0, 2, 3, 1), 'ci': 61}]  en  8  iteraciones  para dimension:  4\n",
            "Nodo prometedor: (2,)\n",
            "La solucion final es: [{'s': (0, 2, 3, 1), 'ci': 61}]  en  9  iteraciones  para dimension:  4\n",
            "Nodo prometedor: (1, 2, 3)\n",
            "\n",
            "********Soluciones: [{'s': (1, 2, 3, 0), 'ci': 65}]\n",
            "La solucion final es: [{'s': (0, 2, 3, 1), 'ci': 61}]  en  10  iteraciones  para dimension:  4\n",
            "Nodo prometedor: (0, 3)\n",
            "La solucion final es: [{'s': (0, 2, 3, 1), 'ci': 61}]  en  11  iteraciones  para dimension:  4\n",
            "Nodo prometedor: (1, 0)\n",
            "La solucion final es: [{'s': (0, 2, 3, 1), 'ci': 61}]  en  12  iteraciones  para dimension:  4\n",
            "Nodo prometedor: (0, 1)\n",
            "La solucion final es: [{'s': (0, 2, 3, 1), 'ci': 61}]  en  13  iteraciones  para dimension:  4\n",
            "Nodo prometedor: (0, 2, 1)\n",
            "\n",
            "********Soluciones: [{'s': (0, 2, 1, 3), 'ci': 69}]\n",
            "La solucion final es: [{'s': (0, 2, 3, 1), 'ci': 61}]  en  14  iteraciones  para dimension:  4\n"
          ],
          "name": "stdout"
        }
      ]
    }
  ]
}