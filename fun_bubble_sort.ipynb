{
  "nbformat": 4,
  "nbformat_minor": 0,
  "metadata": {
    "colab": {
      "name": "fun_bubble_sort.ipynb",
      "provenance": [],
      "collapsed_sections": [],
      "include_colab_link": true
    },
    "kernelspec": {
      "name": "python3",
      "display_name": "Python 3"
    }
  },
  "cells": [
    {
      "cell_type": "markdown",
      "metadata": {
        "id": "view-in-github",
        "colab_type": "text"
      },
      "source": [
        "<a href=\"https://colab.research.google.com/github/jignacioh/03MAIR---Algoritmos-de-Optimizacion---2019/blob/master/fun_bubble_sort.ipynb\" target=\"_parent\"><img src=\"https://colab.research.google.com/assets/colab-badge.svg\" alt=\"Open In Colab\"/></a>"
      ]
    },
    {
      "cell_type": "code",
      "metadata": {
        "id": "fXhxxSHxRKD1",
        "colab_type": "code",
        "outputId": "b5023dca-e271-493d-968b-b9633909267b",
        "colab": {
          "base_uri": "https://localhost:8080/",
          "height": 173
        }
      },
      "source": [
        "!pip install sorting "
      ],
      "execution_count": 0,
      "outputs": [
        {
          "output_type": "stream",
          "text": [
            "Collecting sorting\n",
            "  Downloading https://files.pythonhosted.org/packages/5a/a7/97e31ce3b9c16f1041bb94063a2778b666ef8ee5862094c248e9445c454c/sorting-1.0.3.tar.gz\n",
            "Building wheels for collected packages: sorting\n",
            "  Building wheel for sorting (setup.py) ... \u001b[?25l\u001b[?25hdone\n",
            "  Created wheel for sorting: filename=sorting-1.0.3-cp36-none-any.whl size=5882 sha256=05c67e09eaa6f78a389e093af84e87ca2b68b1f68d268604673d315a76b1450a\n",
            "  Stored in directory: /root/.cache/pip/wheels/eb/f9/9d/ea128e53c92937b3f10b15f961f100068615df83d0b7c3affc\n",
            "Successfully built sorting\n",
            "Installing collected packages: sorting\n",
            "Successfully installed sorting-1.0.3\n"
          ],
          "name": "stdout"
        }
      ]
    },
    {
      "cell_type": "code",
      "metadata": {
        "id": "r0hnwmz0RT5A",
        "colab_type": "code",
        "outputId": "120c898b-fc22-444e-b845-3ac95749fef2",
        "colab": {
          "base_uri": "https://localhost:8080/",
          "height": 990
        }
      },
      "source": [
        "\n",
        "\n",
        "def bubble_sort(array,size):\n",
        "  for i in range(0,size):\n",
        "    for j in range(0,size-i-1):\n",
        "      if lista[j+1] < lista[j]:\n",
        "        temp = lista[j]\n",
        "        lista[j] = lista[j+1]\n",
        "        lista[j+1] = temp\n",
        "      print(lista)\n",
        "  print(\"Lista ordenada: \",lista)\n",
        "\n",
        "lista = [45,2,100,-3,0,4,2,9,123,43,10]\n",
        "bubble_sort(lista,len(lista))"
      ],
      "execution_count": 20,
      "outputs": [
        {
          "output_type": "stream",
          "text": [
            "[2, 45, 100, -3, 0, 4, 2, 9, 123, 43, 10]\n",
            "[2, 45, 100, -3, 0, 4, 2, 9, 123, 43, 10]\n",
            "[2, 45, -3, 100, 0, 4, 2, 9, 123, 43, 10]\n",
            "[2, 45, -3, 0, 100, 4, 2, 9, 123, 43, 10]\n",
            "[2, 45, -3, 0, 4, 100, 2, 9, 123, 43, 10]\n",
            "[2, 45, -3, 0, 4, 2, 100, 9, 123, 43, 10]\n",
            "[2, 45, -3, 0, 4, 2, 9, 100, 123, 43, 10]\n",
            "[2, 45, -3, 0, 4, 2, 9, 100, 123, 43, 10]\n",
            "[2, 45, -3, 0, 4, 2, 9, 100, 43, 123, 10]\n",
            "[2, 45, -3, 0, 4, 2, 9, 100, 43, 10, 123]\n",
            "[2, 45, -3, 0, 4, 2, 9, 100, 43, 10, 123]\n",
            "[2, -3, 45, 0, 4, 2, 9, 100, 43, 10, 123]\n",
            "[2, -3, 0, 45, 4, 2, 9, 100, 43, 10, 123]\n",
            "[2, -3, 0, 4, 45, 2, 9, 100, 43, 10, 123]\n",
            "[2, -3, 0, 4, 2, 45, 9, 100, 43, 10, 123]\n",
            "[2, -3, 0, 4, 2, 9, 45, 100, 43, 10, 123]\n",
            "[2, -3, 0, 4, 2, 9, 45, 100, 43, 10, 123]\n",
            "[2, -3, 0, 4, 2, 9, 45, 43, 100, 10, 123]\n",
            "[2, -3, 0, 4, 2, 9, 45, 43, 10, 100, 123]\n",
            "[-3, 2, 0, 4, 2, 9, 45, 43, 10, 100, 123]\n",
            "[-3, 0, 2, 4, 2, 9, 45, 43, 10, 100, 123]\n",
            "[-3, 0, 2, 4, 2, 9, 45, 43, 10, 100, 123]\n",
            "[-3, 0, 2, 2, 4, 9, 45, 43, 10, 100, 123]\n",
            "[-3, 0, 2, 2, 4, 9, 45, 43, 10, 100, 123]\n",
            "[-3, 0, 2, 2, 4, 9, 45, 43, 10, 100, 123]\n",
            "[-3, 0, 2, 2, 4, 9, 43, 45, 10, 100, 123]\n",
            "[-3, 0, 2, 2, 4, 9, 43, 10, 45, 100, 123]\n",
            "[-3, 0, 2, 2, 4, 9, 43, 10, 45, 100, 123]\n",
            "[-3, 0, 2, 2, 4, 9, 43, 10, 45, 100, 123]\n",
            "[-3, 0, 2, 2, 4, 9, 43, 10, 45, 100, 123]\n",
            "[-3, 0, 2, 2, 4, 9, 43, 10, 45, 100, 123]\n",
            "[-3, 0, 2, 2, 4, 9, 43, 10, 45, 100, 123]\n",
            "[-3, 0, 2, 2, 4, 9, 43, 10, 45, 100, 123]\n",
            "[-3, 0, 2, 2, 4, 9, 10, 43, 45, 100, 123]\n",
            "[-3, 0, 2, 2, 4, 9, 10, 43, 45, 100, 123]\n",
            "[-3, 0, 2, 2, 4, 9, 10, 43, 45, 100, 123]\n",
            "[-3, 0, 2, 2, 4, 9, 10, 43, 45, 100, 123]\n",
            "[-3, 0, 2, 2, 4, 9, 10, 43, 45, 100, 123]\n",
            "[-3, 0, 2, 2, 4, 9, 10, 43, 45, 100, 123]\n",
            "[-3, 0, 2, 2, 4, 9, 10, 43, 45, 100, 123]\n",
            "[-3, 0, 2, 2, 4, 9, 10, 43, 45, 100, 123]\n",
            "[-3, 0, 2, 2, 4, 9, 10, 43, 45, 100, 123]\n",
            "[-3, 0, 2, 2, 4, 9, 10, 43, 45, 100, 123]\n",
            "[-3, 0, 2, 2, 4, 9, 10, 43, 45, 100, 123]\n",
            "[-3, 0, 2, 2, 4, 9, 10, 43, 45, 100, 123]\n",
            "[-3, 0, 2, 2, 4, 9, 10, 43, 45, 100, 123]\n",
            "[-3, 0, 2, 2, 4, 9, 10, 43, 45, 100, 123]\n",
            "[-3, 0, 2, 2, 4, 9, 10, 43, 45, 100, 123]\n",
            "[-3, 0, 2, 2, 4, 9, 10, 43, 45, 100, 123]\n",
            "[-3, 0, 2, 2, 4, 9, 10, 43, 45, 100, 123]\n",
            "[-3, 0, 2, 2, 4, 9, 10, 43, 45, 100, 123]\n",
            "[-3, 0, 2, 2, 4, 9, 10, 43, 45, 100, 123]\n",
            "[-3, 0, 2, 2, 4, 9, 10, 43, 45, 100, 123]\n",
            "[-3, 0, 2, 2, 4, 9, 10, 43, 45, 100, 123]\n",
            "[-3, 0, 2, 2, 4, 9, 10, 43, 45, 100, 123]\n",
            "Lista ordenada:  [-3, 0, 2, 2, 4, 9, 10, 43, 45, 100, 123]\n"
          ],
          "name": "stdout"
        }
      ]
    },
    {
      "cell_type": "code",
      "metadata": {
        "id": "x9snZjGHR0Gu",
        "colab_type": "code",
        "colab": {}
      },
      "source": [
        ""
      ],
      "execution_count": 0,
      "outputs": []
    }
  ]
}