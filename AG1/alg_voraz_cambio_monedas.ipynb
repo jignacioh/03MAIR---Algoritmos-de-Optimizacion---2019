{
  "nbformat": 4,
  "nbformat_minor": 0,
  "metadata": {
    "colab": {
      "name": "alg_voraz_cambio_monedas.ipynb",
      "provenance": [],
      "include_colab_link": true
    },
    "kernelspec": {
      "name": "python3",
      "display_name": "Python 3"
    }
  },
  "cells": [
    {
      "cell_type": "markdown",
      "metadata": {
        "id": "view-in-github",
        "colab_type": "text"
      },
      "source": [
        "<a href=\"https://colab.research.google.com/github/jignacioh/03MAIR---Algoritmos-de-Optimizacion---2019/blob/master/AG1/alg_voraz_cambio_monedas.ipynb\" target=\"_parent\"><img src=\"https://colab.research.google.com/assets/colab-badge.svg\" alt=\"Open In Colab\"/></a>"
      ]
    },
    {
      "cell_type": "code",
      "metadata": {
        "id": "aHLXhp-51poP",
        "colab_type": "code",
        "colab": {
          "base_uri": "https://localhost:8080/",
          "height": 173
        },
        "outputId": "a4c39f69-1616-4f1c-c65f-7ec5e61cb4a3"
      },
      "source": [
        "!pip install sorting"
      ],
      "execution_count": 1,
      "outputs": [
        {
          "output_type": "stream",
          "text": [
            "Collecting sorting\n",
            "  Downloading https://files.pythonhosted.org/packages/5a/a7/97e31ce3b9c16f1041bb94063a2778b666ef8ee5862094c248e9445c454c/sorting-1.0.3.tar.gz\n",
            "Building wheels for collected packages: sorting\n",
            "  Building wheel for sorting (setup.py) ... \u001b[?25l\u001b[?25hdone\n",
            "  Created wheel for sorting: filename=sorting-1.0.3-cp36-none-any.whl size=5882 sha256=d1f91d5fe8f85a58412325449d16a91d3ea2b26a9790a611b209a3ba74442b75\n",
            "  Stored in directory: /root/.cache/pip/wheels/eb/f9/9d/ea128e53c92937b3f10b15f961f100068615df83d0b7c3affc\n",
            "Successfully built sorting\n",
            "Installing collected packages: sorting\n",
            "Successfully installed sorting-1.0.3\n"
          ],
          "name": "stdout"
        }
      ]
    },
    {
      "cell_type": "code",
      "metadata": {
        "id": "gUOjp4s3hJMg",
        "colab_type": "code",
        "colab": {}
      },
      "source": [
        "import sorting"
      ],
      "execution_count": 0,
      "outputs": []
    },
    {
      "cell_type": "code",
      "metadata": {
        "id": "F0kR__wq4JcQ",
        "colab_type": "code",
        "colab": {
          "base_uri": "https://localhost:8080/",
          "height": 34
        },
        "outputId": "c43f302a-b045-47c1-a3b1-7828c177d5d0"
      },
      "source": [
        "sistema_mon = [1,5,11,20]\n",
        "sist_mon_sort = sorting.quick(sistema_mon)\n",
        "print(sist_mon_sort)\n",
        "monto = 15"
      ],
      "execution_count": 4,
      "outputs": [
        {
          "output_type": "stream",
          "text": [
            "[1, 5, 11, 20]\n"
          ],
          "name": "stdout"
        }
      ]
    },
    {
      "cell_type": "code",
      "metadata": {
        "id": "UViBcH0u4LR6",
        "colab_type": "code",
        "colab": {}
      },
      "source": [
        "def fun_cambio(n,sistema):\n",
        "    C = sistema\n",
        "    S = {} # combinaciones del conjunto solucion\n",
        "    s = 0  # suma de valores monedas\n",
        "    \n",
        "    # debe existir valor unitario 1 en un sistema de monedas sino no es aplicable voraz\n",
        "    if(1 in sistema):\n",
        "        while s < n:\n",
        "            # tomamos el valor mas alto\n",
        "            x = C[-1]\n",
        "            # luego de tomarlo se descarta de los candidatos y no se vuelve a considerar\n",
        "            C = C[:-1]\n",
        "            # cantidad de monedas de ese valor\n",
        "            cant = int((n-s)/x)\n",
        "            # si la cantidad es diferente a 0 entonces forma parte del conjunto de soluciones\n",
        "            if cant!=0:\n",
        "                S[x] = cant\n",
        "                s = s +x*cant\n",
        "    else:\n",
        "        print(\"No hay soluciones\")\n",
        "            \n",
        "    return S"
      ],
      "execution_count": 0,
      "outputs": []
    },
    {
      "cell_type": "code",
      "metadata": {
        "id": "Ng5wa4X94QLC",
        "colab_type": "code",
        "colab": {
          "base_uri": "https://localhost:8080/",
          "height": 52
        },
        "outputId": "2fae869e-e083-4649-fccc-5ba60f9ee2eb"
      },
      "source": [
        "solucion = fun_cambio(monto,sist_mon_sort)\n",
        "for key in solucion:\n",
        "    print (solucion[key], 'moneda de valor', key)"
      ],
      "execution_count": 6,
      "outputs": [
        {
          "output_type": "stream",
          "text": [
            "1 moneda de valor 11\n",
            "4 moneda de valor 1\n"
          ],
          "name": "stdout"
        }
      ]
    }
  ]
}