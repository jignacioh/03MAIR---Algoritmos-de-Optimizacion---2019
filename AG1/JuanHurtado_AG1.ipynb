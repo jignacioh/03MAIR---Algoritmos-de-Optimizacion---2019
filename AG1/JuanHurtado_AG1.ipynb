{
  "nbformat": 4,
  "nbformat_minor": 0,
  "metadata": {
    "colab": {
      "name": "JuanHurtado - AG1.ipynb",
      "provenance": [],
      "collapsed_sections": [],
      "include_colab_link": true
    },
    "kernelspec": {
      "name": "python3",
      "display_name": "Python 3"
    }
  },
  "cells": [
    {
      "cell_type": "markdown",
      "metadata": {
        "id": "view-in-github",
        "colab_type": "text"
      },
      "source": [
        "<a href=\"https://colab.research.google.com/github/jignacioh/03MAIR---Algoritmos-de-Optimizacion---2019/blob/master/AG1/JuanHurtado_AG1.ipynb\" target=\"_parent\"><img src=\"https://colab.research.google.com/assets/colab-badge.svg\" alt=\"Open In Colab\"/></a>"
      ]
    },
    {
      "cell_type": "code",
      "metadata": {
        "id": "IMfb2uz0Eixe",
        "colab_type": "code",
        "colab": {}
      },
      "source": [
        "#Actividad Guiada de Algoritmos de Optimizacion</BR>\n",
        "#Juan Hurtado</BR>\n",
        "#https://colab.research.google.com/drive/1VrxIxf5A_5nqC6T94Vyp9aiJVNCVkDS2"
      ],
      "execution_count": 0,
      "outputs": []
    },
    {
      "cell_type": "code",
      "metadata": {
        "id": "QntCuyiZLZCJ",
        "colab_type": "code",
        "colab": {}
      },
      "source": [
        ""
      ],
      "execution_count": 0,
      "outputs": []
    },
    {
      "cell_type": "markdown",
      "metadata": {
        "id": "OC4tvkwcH2iX",
        "colab_type": "text"
      },
      "source": [
        "Actividad Guiada de Algoritmos de Optimizacion</BR>\n",
        "Juan Hurtado</BR>\n",
        "https://colab.research.google.com/drive/1VrxIxf5A_5nqC6T94Vyp9aiJVNCVkDS2"
      ]
    },
    {
      "cell_type": "markdown",
      "metadata": {
        "id": "2rchOkjWIlcQ",
        "colab_type": "text"
      },
      "source": [
        "EJERCICIO 1 - PROBLEMA DE LA TORRE DE HANOI"
      ]
    },
    {
      "cell_type": "code",
      "metadata": {
        "id": "vmyTOj5JLag8",
        "colab_type": "code",
        "colab": {}
      },
      "source": [
        "# pequeña variacion del problema hecho en clase con una torre intermedia\n",
        "def hanoi(discos, origen, intermedio,destino):\n",
        "  if discos == 1:\n",
        "    print(\"Mover disco de \",origen,\" hasta \", destino)\n",
        "  else:\n",
        "    hanoi(discos-1, origen, destino,intermedio)\n",
        "    print(\"Mover disco de \",str(origen),\" hasta \",str(destino))\n",
        "    hanoi(discos-1,intermedio,origen,destino)\n",
        "  "
      ],
      "execution_count": 0,
      "outputs": []
    },
    {
      "cell_type": "code",
      "metadata": {
        "id": "km2Z3szd-2G7",
        "colab_type": "code",
        "outputId": "cf7b711d-6531-4247-bc8d-302e2d3af862",
        "colab": {
          "base_uri": "https://localhost:8080/",
          "height": 69
        }
      },
      "source": [
        "hanoi(2 , \"A\",\"C\",\"B\")"
      ],
      "execution_count": 2,
      "outputs": [
        {
          "output_type": "stream",
          "text": [
            "Mover disco de  A  hasta  C\n",
            "Mover disco de  A  hasta  B\n",
            "Mover disco de  C  hasta  B\n"
          ],
          "name": "stdout"
        }
      ]
    },
    {
      "cell_type": "markdown",
      "metadata": {
        "id": "ePa3Ou2okCcC",
        "colab_type": "text"
      },
      "source": [
        "EJERCICIO 2 - PROBLEMA DE LAS N REINAS"
      ]
    },
    {
      "cell_type": "code",
      "metadata": {
        "id": "rCPYSBJAjb-J",
        "colab_type": "code",
        "colab": {}
      },
      "source": [
        "import numpy as np\n",
        "# Verifica si una reina puede colocarse en array[fila_reina][columna_reina]\n",
        "def fun_es_prometedora(fila_reina, columna_reina):\n",
        "    global array\n",
        "    # Comprobar que una reina no se coloque en una misma fila_reina donde hay una (horizontal)\n",
        "    for i in range(0,columna_reina):\n",
        "        if array[fila_reina][i] == 1:\n",
        "            return False\n",
        "    # Comprueba la vertical y diagonal superior\n",
        "    for i,j in zip(range(fila_reina,-1,-1),range(columna_reina,-1,-1)):\n",
        "        if array[i][j] == 1: \n",
        "            return False\n",
        "    # Comprueba la vertical y diagonal inferior\n",
        "    for i,j in zip(range(fila_reina,dimension),range(columna_reina,-1,-1)):\n",
        "        if array[i][j] == 1: \n",
        "            return False\n",
        "    # True si es valida la posicion de una reina en array[fila_reina][columna_reina]\n",
        "    return True"
      ],
      "execution_count": 0,
      "outputs": []
    },
    {
      "cell_type": "code",
      "metadata": {
        "id": "aW9AnIfbkNqH",
        "colab_type": "code",
        "colab": {}
      },
      "source": [
        "# reina -- posicion de una reina en la  primera del tablero\n",
        "# dimension -- los mismo que N reinas\n",
        "# Metodo para evaluar una reina a la vez por columna\n",
        "def fun_evaluar_etapa(reina_columna, dimension):\n",
        "    global array\n",
        "    if reina_columna == dimension:\n",
        "        return True\n",
        "    for fila in range(0,dimension):\n",
        "        # Evalua posicion de reina en cada fila respecto a reina_columna\n",
        "        if fun_es_prometedora(fila, reina_columna ):\n",
        "            # Si su posicion es posible se coloca un 1 en el array tablero\n",
        "            array[fila][reina_columna] = 1;\n",
        "            # Solucion para la siguiente reina, siguiente columna\n",
        "            if fun_evaluar_etapa(reina_columna+1, dimension):\n",
        "                return True;\n",
        "            # Si evaluar etapa es Falsa --> la ubicacion en el tablero no corresponde\n",
        "            # BACKTRACKING\n",
        "            array[fila][reina_columna]=0;\n",
        "    return False  "
      ],
      "execution_count": 0,
      "outputs": []
    },
    {
      "cell_type": "code",
      "metadata": {
        "id": "QUyB2MWFkc3N",
        "colab_type": "code",
        "colab": {}
      },
      "source": [
        "def solve(reinas) :\n",
        "    # VARIABLE GLOBAL QUE REPRESENTA AL TABLERO DE NxN\n",
        "    global array\n",
        "    if fun_evaluar_etapa(0, reinas):\n",
        "        # MATRIZ DE SOLUCION EN UN TABLERO DE 0 Y 1s\n",
        "        print(\"MATRIZ SOLUCION\")\n",
        "        for i in range(0,reinas):\n",
        "            for j in range(0, reinas):\n",
        "                print(\" \",int(array[i][j]), end = \"\")\n",
        "            print(\"\")\n",
        "    else:\n",
        "        print(\"SIN SOLUCION\")"
      ],
      "execution_count": 0,
      "outputs": []
    },
    {
      "cell_type": "code",
      "metadata": {
        "id": "q2XmnxAAn5ke",
        "colab_type": "code",
        "colab": {
          "base_uri": "https://localhost:8080/",
          "height": 208
        },
        "outputId": "06170912-0720-4cb2-dcb9-34012c417cae"
      },
      "source": [
        "dimension = 10\n",
        "array = np.zeros( (dimension, dimension) )\n",
        "solve(dimension)"
      ],
      "execution_count": 42,
      "outputs": [
        {
          "output_type": "stream",
          "text": [
            "MATRIZ SOLUCION\n",
            "  1  0  0  0  0  0  0  0  0  0\n",
            "  0  0  0  0  0  0  0  1  0  0\n",
            "  0  1  0  0  0  0  0  0  0  0\n",
            "  0  0  0  0  0  0  0  0  1  0\n",
            "  0  0  0  0  0  1  0  0  0  0\n",
            "  0  0  1  0  0  0  0  0  0  0\n",
            "  0  0  0  0  0  0  0  0  0  1\n",
            "  0  0  0  1  0  0  0  0  0  0\n",
            "  0  0  0  0  0  0  1  0  0  0\n",
            "  0  0  0  0  1  0  0  0  0  0\n"
          ],
          "name": "stdout"
        }
      ]
    },
    {
      "cell_type": "markdown",
      "metadata": {
        "id": "N5sP0BpOIr38",
        "colab_type": "text"
      },
      "source": [
        "EJERCICIO 3 - DISTANCIA ENTRE PUNTOS 1D, 2D, 3D"
      ]
    },
    {
      "cell_type": "code",
      "metadata": {
        "id": "qlU0uykaI8aV",
        "colab_type": "code",
        "colab": {}
      },
      "source": [
        "import numpy as np\n",
        "import random\n",
        "import math"
      ],
      "execution_count": 0,
      "outputs": []
    },
    {
      "cell_type": "code",
      "metadata": {
        "id": "5XHs296rIy2h",
        "colab_type": "code",
        "colab": {}
      },
      "source": [
        "# FUNCION PARA GENERAR UN ARRAY DE UN TAMAÑO\n",
        "# SIZE - TAMAÑO\n",
        "# MUESTRA - RANGO PARA GENERAR LOS NUMEROS\n",
        "# DIMENSION - 1, 2 o 3\n",
        "def getRandomPoints(dimension):\n",
        "    vector = []\n",
        "    size = 8\n",
        "    muestra = 50\n",
        "    if dimension == 1:\n",
        "        # con random choice puedo elegir un elemento y luego retirarlo para que no se repita\n",
        "        vector2 = np.random.choice(np.arange(1,muestra + 1), size, replace=False)\n",
        "        for element in vector2:\n",
        "            vector.append((element,0))\n",
        "    elif dimension == 2:\n",
        "        vector = [(random.randrange(1,muestra),random.randrange(1,muestra)) for x in range(size)]\n",
        "    elif dimension == 3:\n",
        "        vector = [(random.randrange(1,muestra),random.randrange(1,muestra),random.randrange(1,muestra)) for x in range(size)]\n",
        "    return vector"
      ],
      "execution_count": 0,
      "outputs": []
    },
    {
      "cell_type": "code",
      "metadata": {
        "id": "nLh3u7C5KC5c",
        "colab_type": "code",
        "colab": {
          "base_uri": "https://localhost:8080/",
          "height": 69
        },
        "outputId": "e930e485-665b-4103-f73f-a362912ae160"
      },
      "source": [
        "vector1d = getRandomPoints(1) # coordenada Y siempre 0 asi puede actuar como 1D\n",
        "vector2d = getRandomPoints(2)\n",
        "vector3d = getRandomPoints(3)\n",
        "\n",
        "print(vector1d)\n",
        "print(vector2d)\n",
        "print(vector3d)"
      ],
      "execution_count": 50,
      "outputs": [
        {
          "output_type": "stream",
          "text": [
            "[(44, 0), (27, 0), (22, 0), (5, 0), (25, 0), (17, 0), (50, 0), (43, 0)]\n",
            "[(22, 46), (14, 49), (6, 34), (3, 25), (23, 6), (16, 7), (10, 2), (19, 26)]\n",
            "[(38, 6, 46), (49, 12, 26), (44, 3, 48), (19, 12, 3), (12, 40, 3), (13, 39, 27), (37, 23, 11), (11, 26, 1)]\n"
          ],
          "name": "stdout"
        }
      ]
    },
    {
      "cell_type": "code",
      "metadata": {
        "id": "ZEWkZY_IKoO4",
        "colab_type": "code",
        "colab": {}
      },
      "source": [
        "# Funcion generica para hallar distancia entre coordenadas solo para 2d y 3d\n",
        "def distanciaPuntos(A,B):\n",
        "    if len(A) == 2:\n",
        "        distancia = math.sqrt(pow((A[0] - B[0]),2) + pow((A[1] - B[1]),2))\n",
        "    elif len(A) == 3:\n",
        "        distancia = math.sqrt(pow((A[0] - B[0]),2) + pow((A[1] - B[1]),2) + pow((A[2] - B[2]),2))\n",
        "    \n",
        "    return np.absolute(distancia)"
      ],
      "execution_count": 0,
      "outputs": []
    },
    {
      "cell_type": "markdown",
      "metadata": {
        "id": "T8m3Vqk5LH_w",
        "colab_type": "text"
      },
      "source": [
        "\n",
        "\n",
        "*   2 Funciones para obtener un par de puntos mas cercanos\n",
        "*   a,b y c son tuplas con 2 elementos, cada elemento es un punto\n",
        "*   Ayudara a obtener el par de puntos mas **cercanos**\n",
        "*   Se puede mejorar en una sola\n",
        "\n",
        "\n"
      ]
    },
    {
      "cell_type": "code",
      "metadata": {
        "id": "o9K2lGlNK8U5",
        "colab_type": "code",
        "colab": {}
      },
      "source": [
        "def minima_distancia_3par_de_puntos(a,b,c):\n",
        "    \n",
        "    distancia_a = distanciaPuntos(a[0],a[1])\n",
        "    distancia_b = distanciaPuntos(b[0],b[1])\n",
        "    distancia_c = distanciaPuntos(c[0],c[1])\n",
        "    \n",
        "    if distancia_a <= distancia_b:\n",
        "        if distancia_a <= distancia_c:\n",
        "            return a\n",
        "        else:\n",
        "            return c\n",
        "    else:\n",
        "        if distancia_b <= distancia_c:\n",
        "            return b\n",
        "        else:\n",
        "            return c"
      ],
      "execution_count": 0,
      "outputs": []
    },
    {
      "cell_type": "code",
      "metadata": {
        "id": "EFpJYzXpLCgr",
        "colab_type": "code",
        "colab": {}
      },
      "source": [
        "def minima_distancia_2par_de_puntos(a,b):\n",
        "    \n",
        "    distancia_a = distanciaPuntos(a[0],a[1])\n",
        "    distancia_b = distanciaPuntos(b[0],b[1])\n",
        "    \n",
        "    if distancia_a <= distancia_b:\n",
        "        return a\n",
        "    else:\n",
        "        return b"
      ],
      "execution_count": 0,
      "outputs": []
    },
    {
      "cell_type": "markdown",
      "metadata": {
        "id": "im3laP2WL2p-",
        "colab_type": "text"
      },
      "source": [
        "\n",
        "\n",
        "1.   ALGORITMO DE FUERZA BRUTA PARA VECTOR 1D\n",
        "\n",
        "\n",
        "*   Consideramos el primer par como la distancia minima\n",
        "*   Luego iteramos por toda la lista, hasta no encontrar otro candidato\n",
        "\n",
        "\n",
        "\n",
        "\n",
        "\n"
      ]
    },
    {
      "cell_type": "code",
      "metadata": {
        "id": "Flo2Xzbcb3aC",
        "colab_type": "code",
        "colab": {}
      },
      "source": [
        "def obtenerNumerosMasCercanos(lista_numeros):\n",
        "    solucion = []\n",
        "    distancia_menor = np.absolute(distanciaPuntos(lista_numeros[0] , lista_numeros[1]))\n",
        "    solucion.append(lista_numeros[0])\n",
        "    solucion.append(lista_numeros[1])\n",
        "    for i in range(0, len(lista_numeros)-1):\n",
        "        if distanciaPuntos(lista_numeros[i],lista_numeros[i+1])< distancia_menor:\n",
        "            distancia_menor = np.absolute(distanciaPuntos(lista_numeros[i] , lista_numeros[i+1]))\n",
        "            solucion[0] = lista_numeros[i]\n",
        "            solucion[1] = lista_numeros[i+1] \n",
        "    return solucion "
      ],
      "execution_count": 0,
      "outputs": []
    },
    {
      "cell_type": "code",
      "metadata": {
        "id": "L8qBjiCKcUtn",
        "colab_type": "code",
        "colab": {
          "base_uri": "https://localhost:8080/",
          "height": 52
        },
        "outputId": "e88ab155-b136-4199-fdc6-f29af6dff926"
      },
      "source": [
        "print (vector1d)\n",
        "print (obtenerNumerosMasCercanos(vector1d))"
      ],
      "execution_count": 58,
      "outputs": [
        {
          "output_type": "stream",
          "text": [
            "[(44, 0), (27, 0), (22, 0), (5, 0), (25, 0), (17, 0), (50, 0), (43, 0)]\n",
            "[(27, 0), (22, 0)]\n"
          ],
          "name": "stdout"
        }
      ]
    },
    {
      "cell_type": "markdown",
      "metadata": {
        "id": "qD0xAHwRds_T",
        "colab_type": "text"
      },
      "source": [
        "\n",
        "\n",
        "2.   ALGORITMO RECURSIVO, DIVIDE Y VENCERAS\n",
        "    - LA SOLUCION ES DIVIDIR LA LISTA EN 2 SUB LISTAS DE MISMO TAMAÑO\n",
        "    - Se considera una lista mas para los puntos que estaban al centro de la lista al momento de hacer la division, solo para listas de tamaño par\n",
        "\n"
      ]
    },
    {
      "cell_type": "code",
      "metadata": {
        "id": "CLuHWd9adsME",
        "colab_type": "code",
        "colab": {}
      },
      "source": [
        "def obtenerPuntosMasCercanosRecursivo(lista_numeros):\n",
        "    size = len(lista_numeros)\n",
        "    lista_izquierda = []\n",
        "    lista_derecha = []\n",
        "    corte = []\n",
        "    # SI SOLO SON 2, SE DEVUELVE EL MISMO COMO SOLUCION\n",
        "    if size == 2:\n",
        "        return lista_numeros\n",
        "    elif size > 2:\n",
        "        M = len(lista_numeros)/2\n",
        "        # CASO : CANTIDAD DE PUNTOS PAR\n",
        "        if len(lista_numeros)%2 == 0 :\n",
        "            lista_izquierda = []\n",
        "            lista_derecha = []\n",
        "            # se divide la lista en 2 sub listas de mismo tamaño, N/2\n",
        "            for i in range(0,int(M)):\n",
        "                #print(lista_numeros[i])\n",
        "                lista_izquierda.append(lista_numeros[i])\n",
        "            for j in range(int(M),len(lista_numeros)):\n",
        "                #lista_derecha[j-int(M)]=lista_numeros[j]\n",
        "                lista_derecha.append(lista_numeros[j])\n",
        "\n",
        "            # Puntos mas cercanos para sublistas, de mismo tamaño, mediante algoritmo recursivo\n",
        "            print(lista_izquierda)\n",
        "            print(lista_derecha)\n",
        "            a = obtenerPuntosMasCercanosRecursivo(lista_izquierda)\n",
        "            b = obtenerPuntosMasCercanosRecursivo(lista_derecha)\n",
        "\n",
        "            # Corte es la lista que tendra un elemento de la lista izquierda y derecha\n",
        "            corte = []\n",
        "            corte.append(lista_izquierda[len(lista_izquierda)-1])\n",
        "            corte.append(lista_derecha[0])\n",
        "\n",
        "            # Se toma el par de puntos en a, b o el corte que tengan la distancia minima\n",
        "            return minima_distancia_3par_de_puntos(a,b,corte)\n",
        "        else: \n",
        "            # CASO : CANTIDAD DE PUNTOS IMPAR\n",
        "            # SE GENERAN DOS SUBLISTAS DE TAMAÑO N+1/2\n",
        "            lista_izquierda = []\n",
        "            lista_derecha = []\n",
        "            for i in range(0,int(M+1)):\n",
        "                lista_izquierda.append(lista_numeros[i])\n",
        "            for j in range(int(M),len(lista_numeros)):\n",
        "                lista_derecha.append(lista_numeros[j])\n",
        "            print(lista_izquierda)\n",
        "            print(lista_derecha)\n",
        "            a = obtenerPuntosMasCercanosRecursivo(lista_izquierda)\n",
        "            b = obtenerPuntosMasCercanosRecursivo(lista_derecha)\n",
        "            return minima_distancia_2par_de_puntos(a,b)\n",
        "            "
      ],
      "execution_count": 0,
      "outputs": []
    },
    {
      "cell_type": "code",
      "metadata": {
        "id": "K0qb2EkJdsSI",
        "colab_type": "code",
        "colab": {
          "base_uri": "https://localhost:8080/",
          "height": 156
        },
        "outputId": "e3ed0e3d-f974-424d-9b3b-c69efd61e653"
      },
      "source": [
        "print(vector2d)\n",
        "print (obtenerPuntosMasCercanosRecursivo(vector2d))"
      ],
      "execution_count": 60,
      "outputs": [
        {
          "output_type": "stream",
          "text": [
            "[(22, 46), (14, 49), (6, 34), (3, 25), (23, 6), (16, 7), (10, 2), (19, 26)]\n",
            "[(22, 46), (14, 49), (6, 34), (3, 25)]\n",
            "[(23, 6), (16, 7), (10, 2), (19, 26)]\n",
            "[(22, 46), (14, 49)]\n",
            "[(6, 34), (3, 25)]\n",
            "[(23, 6), (16, 7)]\n",
            "[(10, 2), (19, 26)]\n",
            "[(23, 6), (16, 7)]\n"
          ],
          "name": "stdout"
        }
      ]
    },
    {
      "cell_type": "markdown",
      "metadata": {
        "id": "czHk7pJuiAfe",
        "colab_type": "text"
      },
      "source": [
        "[(23, 6), (16, 7)] SON LOS PUNTOS DE DISTANCIA MAS CERCANA"
      ]
    },
    {
      "cell_type": "code",
      "metadata": {
        "id": "WYfpguROhqZa",
        "colab_type": "code",
        "colab": {
          "base_uri": "https://localhost:8080/",
          "height": 156
        },
        "outputId": "da4ba31f-dc94-460b-dbb1-6f844fc65fa1"
      },
      "source": [
        "print(vector3d)\n",
        "print (obtenerPuntosMasCercanosRecursivo(vector3d))"
      ],
      "execution_count": 61,
      "outputs": [
        {
          "output_type": "stream",
          "text": [
            "[(38, 6, 46), (49, 12, 26), (44, 3, 48), (19, 12, 3), (12, 40, 3), (13, 39, 27), (37, 23, 11), (11, 26, 1)]\n",
            "[(38, 6, 46), (49, 12, 26), (44, 3, 48), (19, 12, 3)]\n",
            "[(12, 40, 3), (13, 39, 27), (37, 23, 11), (11, 26, 1)]\n",
            "[(38, 6, 46), (49, 12, 26)]\n",
            "[(44, 3, 48), (19, 12, 3)]\n",
            "[(12, 40, 3), (13, 39, 27)]\n",
            "[(37, 23, 11), (11, 26, 1)]\n",
            "[(38, 6, 46), (49, 12, 26)]\n"
          ],
          "name": "stdout"
        }
      ]
    },
    {
      "cell_type": "markdown",
      "metadata": {
        "id": "s4F9Y5F6iIzU",
        "colab_type": "text"
      },
      "source": [
        "[(38, 6, 46), (49, 12, 26)] SON LOS PUNTOS CON DISTANCIA MAS CERCANA\n",
        "\n",
        "\n",
        "\n"
      ]
    }
  ]
}