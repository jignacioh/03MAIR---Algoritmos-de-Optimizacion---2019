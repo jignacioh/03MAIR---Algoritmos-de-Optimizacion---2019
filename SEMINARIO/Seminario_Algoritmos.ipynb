{
  "nbformat": 4,
  "nbformat_minor": 0,
  "metadata": {
    "colab": {
      "name": "Seminario - Algoritmos.ipynb",
      "provenance": [],
      "collapsed_sections": [],
      "include_colab_link": true
    },
    "kernelspec": {
      "name": "python3",
      "display_name": "Python 3"
    }
  },
  "cells": [
    {
      "cell_type": "markdown",
      "metadata": {
        "id": "view-in-github",
        "colab_type": "text"
      },
      "source": [
        "<a href=\"https://colab.research.google.com/github/jignacioh/03MAIR---Algoritmos-de-Optimizacion---2019/blob/master/SEMINARIO/Seminario_Algoritmos.ipynb\" target=\"_parent\"><img src=\"https://colab.research.google.com/assets/colab-badge.svg\" alt=\"Open In Colab\"/></a>"
      ]
    },
    {
      "cell_type": "markdown",
      "metadata": {
        "id": "hVbXYX-RfPWh",
        "colab_type": "text"
      },
      "source": [
        "# Algoritmos de optimización - Seminario<br>\n",
        "Nombre y Apellidos:   JUAN HURTADO CERRON<br>\n",
        "Url: https://github.com/jignacioh/03MAIR---Algoritmos-de-Optimizacion---2019/blob/master/SEMINARIO/Seminario_Algoritmos.ipynb<br>\n",
        "Problema:\n",
        ">1. Combinar cifras y operaciones\n",
        "\n",
        "Descripción del problema:(copiar enunciado)\n",
        "\n",
        "Problema 3. Combinar cifras y operaciones\n",
        "\n",
        "•El problema consiste en analizar el siguiente problema y diseñar un algoritmo que lo resuelva.\n",
        "\n",
        "•Disponemos de las 9 cifras del 1 al 9 (excluimos el cero) y de los 4 signos básicos de las operaciones fundamentales: suma(+), resta(-), multiplicación(*) y división(/)\n",
        "\n",
        "•Debemos combinarlos alternativamente sin repetir ninguno de ellos para obtener una cantidad dada. Un ejemplo sería para obtener el 4:\n",
        "\n",
        "4+2-6/3*1 = 4\n",
        "\n",
        "•Debe analizarse el problema para encontrar todos los valores enteros posibles planteando las siguientes cuestiones:\n",
        "- ¿Qué valor máximo y mínimo se pueden obtener según las condiciones del problema?\n",
        "- ¿Es posible encontrar todos los valores enteros posibles entre dicho mínimo y máximo ?\n",
        "\n",
        "•Nota: Es posible usar la función de python “eval” para evaluar una expresión\n",
        "\n",
        "(*) La respuesta es obligatoria\n",
        "\n",
        "\n",
        "\n",
        "\n",
        "\n",
        "                                        "
      ]
    },
    {
      "cell_type": "code",
      "metadata": {
        "id": "AiskKkzZfy4e",
        "colab_type": "code",
        "colab": {}
      },
      "source": [
        ""
      ],
      "execution_count": 0,
      "outputs": []
    },
    {
      "cell_type": "markdown",
      "metadata": {
        "id": "3_-exlrTgLd-",
        "colab_type": "text"
      },
      "source": [
        "(*)¿Cuantas posibilidades hay sin tener en cuenta las restricciones?<br>\n",
        "\n",
        "\n",
        "\n",
        "¿Cuantas posibilidades hay teniendo en cuenta todas las restricciones.\n",
        "\n",
        "\n"
      ]
    },
    {
      "cell_type": "markdown",
      "metadata": {
        "id": "WfCUqJyKhPcw",
        "colab_type": "text"
      },
      "source": [
        "Respuesta"
      ]
    },
    {
      "cell_type": "code",
      "metadata": {
        "id": "iq6Fe32MgpDX",
        "colab_type": "code",
        "colab": {}
      },
      "source": [
        "# SIN RESTRICCIONES DE REPETIR NUMEROS Y OPERADORES\n",
        "def formula_combinarNumerosRepeticion(arrayNumbers, arrayOperators):\n",
        "\n",
        "    import itertools\n",
        "    from itertools import product\n",
        "    \n",
        "    possible_numbers = arrayNumbers\n",
        "\n",
        "    operators = arrayOperators\n",
        "\n",
        "    number_combinations = []\n",
        "\n",
        "    formulas = []\n",
        "\n",
        "    #combinacion de 5 numeros con repeticion\n",
        "    numbers = list(product(possible_numbers, repeat=len(operators)+1))\n",
        "    # Ejemplo: [('1', '1'), ('1', '2'), ('2', '1'), ('2', '2')]\n",
        "    for val in numbers:\n",
        "\n",
        "        list_values = list(val)\n",
        "        number_combinations.append(list_values)\n",
        "    \n",
        "    # Ejemplo: [['1', '1'], ['1', '2'], ['2', '1'], ['2', '2']]\n",
        "    for combination in number_combinations:\n",
        "        numbers = combination\n",
        "        # Por cada par de elementos se realiza una iteracion por cada combinatoria de los operadores (con repeticion)\n",
        "        # Si solo es el operador + se obtiene\n",
        "        # Ejemplo: ['1+1', '1+2', '2+1', '2+2']\n",
        "        for oper in product(operators, repeat=len(operators)):\n",
        "                \n",
        "            formula = \"\".join(o+v for o, v in zip([\"\"]+list(oper), numbers))\n",
        "            # Sin restriccion sin importar el valor de la operacion aritmetica (entero o decimal)\n",
        "            formulas.append(formula)\n",
        "    # Para este ejemplo el espacio de soluciones seria 4 (2^^2) (combinatoria de numeros)  x 1 (combinatoria de operadores) = 4            \n",
        "    return formulas"
      ],
      "execution_count": 0,
      "outputs": []
    },
    {
      "cell_type": "markdown",
      "metadata": {
        "id": "0ODjy-Ch9yec",
        "colab_type": "text"
      },
      "source": [
        "Para este ejemplo el espacio de soluciones seria <br/>4 (espacio soluciones (1,2)^ numero de iteraciones (2)  x 1 (combinatoria de operadores (+)) = 4  "
      ]
    },
    {
      "cell_type": "code",
      "metadata": {
        "id": "QFCzWgvQ_rBz",
        "colab_type": "code",
        "colab": {
          "base_uri": "https://localhost:8080/",
          "height": 34
        },
        "outputId": "45d7fae0-b485-4149-b669-a8c2f4b872ea"
      },
      "source": [
        "arraySolucion = formula_combinarNumerosRepeticion([\"1\",\"2\"],[\"+\"])\n",
        "print(len(arraySolucion))"
      ],
      "execution_count": 2,
      "outputs": [
        {
          "output_type": "stream",
          "text": [
            "4\n"
          ],
          "name": "stdout"
        }
      ]
    },
    {
      "cell_type": "markdown",
      "metadata": {
        "id": "p_rHnW2hBegC",
        "colab_type": "text"
      },
      "source": [
        "Para este ejemplo el espacio de soluciones seria <br/>27 (espacio soluciones (1,2,3)^ numero de iteraciones (3)  x 4 (combinatoria de operadores (+,-) y combinaciones = 2^2) = 108 "
      ]
    },
    {
      "cell_type": "code",
      "metadata": {
        "id": "fXLrhSEJArWb",
        "colab_type": "code",
        "colab": {
          "base_uri": "https://localhost:8080/",
          "height": 34
        },
        "outputId": "7c1fc3aa-a6d9-493e-ed67-56e9c98d88a3"
      },
      "source": [
        "arraySolucion = formula_combinarNumerosRepeticion([\"1\",\"2\",\"3\"],[\"+\",\"-\"])\n",
        "print(len(arraySolucion))"
      ],
      "execution_count": 3,
      "outputs": [
        {
          "output_type": "stream",
          "text": [
            "108\n"
          ],
          "name": "stdout"
        }
      ]
    },
    {
      "cell_type": "code",
      "metadata": {
        "id": "m7kCfF3wCG3c",
        "colab_type": "code",
        "colab": {}
      },
      "source": [
        "Para este ejemplo el espacio de soluciones seria <br/> 3125 (espacio soluciones (1,2,3,4,5)^ combinaciones (5))  x 256 (combinatoria de operadores (+,-,*,/) y combinaciones = 4^4) = 800000 "
      ],
      "execution_count": 0,
      "outputs": []
    },
    {
      "cell_type": "code",
      "metadata": {
        "id": "zc6--NJNCxu4",
        "colab_type": "code",
        "colab": {
          "base_uri": "https://localhost:8080/",
          "height": 34
        },
        "outputId": "fd64f5c7-61fe-4fc2-b5b4-b855a0ed1f1a"
      },
      "source": [
        "arraySolucion = formula_combinarNumerosRepeticion([\"1\",\"2\",\"3\",\"4\",\"5\"],[\"+\",\"-\",\"*\",\"/\"])\n",
        "print(len(arraySolucion))"
      ],
      "execution_count": 4,
      "outputs": [
        {
          "output_type": "stream",
          "text": [
            "800000\n"
          ],
          "name": "stdout"
        }
      ]
    },
    {
      "cell_type": "markdown",
      "metadata": {
        "id": "eoYKSRyfDGkp",
        "colab_type": "text"
      },
      "source": [
        "Para este ejemplo el espacio de soluciones seria <br/> 9^5 (espacio soluciones (1,2,3,4,5,6,7,8,9)^ combinaciones (5))  x 256 (combinatoria de operadores (+,-,*,/) y combinaciones = 4^4) = 800000 "
      ]
    },
    {
      "cell_type": "code",
      "metadata": {
        "id": "EKL2iGrxDccH",
        "colab_type": "code",
        "colab": {
          "base_uri": "https://localhost:8080/",
          "height": 34
        },
        "outputId": "edb9876e-4537-4645-81d0-d1f38e2a0afc"
      },
      "source": [
        "arraySolucion = formula_combinarNumerosRepeticion([\"1\",\"2\",\"3\",\"4\",\"5\",\"6\",\"7\",\"8\",\"9\"],[\"+\",\"-\",\"*\",\"/\"])\n",
        "print(\"SOLUCIONES SIN RESTRICCIONES \", len(arraySolucion))"
      ],
      "execution_count": 20,
      "outputs": [
        {
          "output_type": "stream",
          "text": [
            "SOLUCIONES SIN RESTRICCIONES  15116544\n"
          ],
          "name": "stdout"
        }
      ]
    },
    {
      "cell_type": "code",
      "metadata": {
        "id": "lhAUF5cWEq1f",
        "colab_type": "code",
        "colab": {}
      },
      "source": [
        "\n",
        "\n",
        "# Con restricciones\n",
        "def formula_combinarNumerosSinRepeticion(arrayNumbers, arrayOperators):\n",
        "\n",
        "    import itertools\n",
        "\n",
        "    possible_numbers = arrayNumbers\n",
        "\n",
        "    operators = arrayOperators\n",
        "    number_combinations = []\n",
        "\n",
        "    formulas = []\n",
        "\n",
        "    #combinacion de 5 numeros sin repeticion, donde el orden no importa\n",
        "    numbers = list(itertools.combinations(possible_numbers, len(operators)+1))\n",
        "\n",
        "    # Creamos un array con esos valores\n",
        "    for val in numbers:\n",
        "\n",
        "        list_values = list(val)\n",
        "        number_combinations.append(list_values)\n",
        "    # Iteramos sobre este y permutamos entre 5 valores donde el orden si importa, siempre que usemos 4 operadores\n",
        "    for combination in number_combinations:\n",
        "\n",
        "        numbers = combination\n",
        "        # Permutacion de numeros\n",
        "        for values in itertools.permutations(numbers, len(numbers)):\n",
        "            # Permutacion de operadores\n",
        "            for oper in itertools.permutations(operators, len(numbers)-1):\n",
        "                # Creamos una expresion aritmetica con elementos permutados y los operadores permutados\n",
        "                formula = \"\".join(o+v for o, v in zip([\"\"]+list(oper), values))\n",
        "                # Restriccion: el resultado debe ser entero\n",
        "                if isinstance(eval(formula), float) and (eval(formula)).is_integer():\n",
        "                    formulas.append(formula)\n",
        "    return formulas"
      ],
      "execution_count": 0,
      "outputs": []
    },
    {
      "cell_type": "code",
      "metadata": {
        "id": "Wyn5Tg2eOSlM",
        "colab_type": "code",
        "colab": {
          "base_uri": "https://localhost:8080/",
          "height": 34
        },
        "outputId": "3f71de9d-13c1-46ea-e9ba-4ed68787bad5"
      },
      "source": [
        "arraySolucion = formula_combinarNumerosSinRepeticion([\"1\",\"2\",\"3\",\"4\",\"5\",\"6\",\"7\",\"8\",\"9\"],[\"+\",\"-\",\"*\",\"/\"])\n",
        "print(\"NUMERO DE SOLUCIONES CON LAS RESTRICCIONES \",len(arraySolucion))"
      ],
      "execution_count": 18,
      "outputs": [
        {
          "output_type": "stream",
          "text": [
            "NUMERO DE SOLUCIONES CON LAS RESTRICCIONES  90000\n"
          ],
          "name": "stdout"
        }
      ]
    },
    {
      "cell_type": "markdown",
      "metadata": {
        "id": "dzynfVJahHoY",
        "colab_type": "text"
      },
      "source": [
        "Modelo para el espacio de soluciones<br>\n",
        "(*) ¿Cual es la estructura de datos que mejor se adapta al problema? Argumentalo.(Es posible que hayas elegido una al principio y veas la necesidad de cambiar, arguentalo)\n"
      ]
    },
    {
      "cell_type": "markdown",
      "metadata": {
        "id": "xFIJrOwKi2Ti",
        "colab_type": "text"
      },
      "source": [
        "**Visto en los algoritmos anteriores, en mi opinion la mejor forma de representarlos seria usando matrices, donde cada sub arreglo representa una combinatoria de los numeros a usar, igualmente para los operadores**"
      ]
    },
    {
      "cell_type": "markdown",
      "metadata": {
        "id": "7Z9U2W7bi-XS",
        "colab_type": "text"
      },
      "source": [
        "Según el modelo para el espacio de soluciones<br>\n",
        "(*)¿Cual es la función objetivo? \n",
        "\n",
        "**En si, el problema plantea encontrar los maximos y minimos valores de esta combinacion de numero y operadores**\n",
        "\n",
        "(*)¿Es un problema de maximización o minimización? \n",
        "\n",
        "**Podria tomarse como ambos, por premisa del problema mismo**"
      ]
    },
    {
      "cell_type": "markdown",
      "metadata": {
        "id": "hBalWLM7j1_d",
        "colab_type": "text"
      },
      "source": [
        "Respuesta"
      ]
    },
    {
      "cell_type": "code",
      "metadata": {
        "id": "pDA-rg3Gj5Lz",
        "colab_type": "code",
        "colab": {
          "base_uri": "https://localhost:8080/",
          "height": 69
        },
        "outputId": "6a6da62d-0be3-49f0-cc21-db5e965c4685"
      },
      "source": [
        "arraySolucion = formula_combinarNumerosSinRepeticion([\"1\",\"2\",\"3\",\"4\",\"5\",\"6\",\"7\",\"8\",\"9\"],[\"+\",\"-\",\"*\",\"/\"])\n",
        "print(len(arraySolucion))\n",
        "\n",
        "maximo = eval(arraySolucion[0])\n",
        "for index in range(1,len(arraySolucion)):\n",
        "    if eval(arraySolucion[index]) >= maximo :\n",
        "        maximo = eval(arraySolucion[index])\n",
        "print(\"Valor maximo que se puede encontrar\", maximo)\n",
        "\n",
        "minimo = eval(arraySolucion[0])\n",
        "for index in range(1,len(arraySolucion)):\n",
        "    if eval(arraySolucion[index]) <= minimo :\n",
        "        minimo = eval(arraySolucion[index])\n",
        "print(\"Valor minimo que se puede encontrar\", minimo)"
      ],
      "execution_count": 15,
      "outputs": [
        {
          "output_type": "stream",
          "text": [
            "90000\n",
            "Valor maximo que se puede encontrar 77.0\n",
            "Valor minimo que se puede encontrar -69.0\n"
          ],
          "name": "stdout"
        }
      ]
    },
    {
      "cell_type": "markdown",
      "metadata": {
        "id": "rlnTYgY1j6I2",
        "colab_type": "text"
      },
      "source": [
        "Diseña un algoritmo para resolver el problema por fuerza bruta"
      ]
    },
    {
      "cell_type": "markdown",
      "metadata": {
        "id": "70rDgxYXkC8r",
        "colab_type": "text"
      },
      "source": [
        "Respuesta"
      ]
    },
    {
      "cell_type": "code",
      "metadata": {
        "id": "CJb5sQ0qkENy",
        "colab_type": "code",
        "colab": {}
      },
      "source": [
        "# Con restricciones,, mediante este algoritmo recorro todo el espacio de soluciones y escojo aquellos que cumplan las restricciones\n",
        "# ALGORITMO DE FUERZA BRUTA PARA HALLAR TODAS LAS SOLUCIONES\n",
        "\n",
        "def formula_combinarNumerosSinRepeticion(arrayNumbers, arrayOperators):\n",
        "\n",
        "    import itertools\n",
        "\n",
        "    possible_numbers = arrayNumbers\n",
        "\n",
        "    operators = arrayOperators\n",
        "    number_combinations = []\n",
        "\n",
        "    formulas = []\n",
        "\n",
        "    # combinacion de 5 numeros sin repeticion, donde el orden no importa\n",
        "    # 1. Operaciones = n!/(n-k)!k! por ocmbinatoria donde K son los valores tomados aleatoriamente de \"n\" posibles numeros\n",
        "    numbers = list(itertools.combinations(possible_numbers, len(operators)+1))\n",
        "\n",
        "    # Creamos un array con esos valores\n",
        "    for val in numbers:\n",
        "\n",
        "        list_values = list(val)\n",
        "        number_combinations.append(list_values)\n",
        "    # Iteramos sobre este y permutamos entre 5 valores donde el orden si importa, siempre que usemos 4 operadores\n",
        "\n",
        "     # 2. Operaciones = n!/(n-k)!k! por combinatoria donde K son los valores tomados aleatoriamente de \"n\" posibles numeros\n",
        "    for combination in number_combinations:\n",
        "\n",
        "        numbers = combination\n",
        "        # Permutacion de numeros\n",
        "        # 3. Operaciones = k! Permutacionaciones de los k numeros obtenidos en el grupo de \"n\" posibles numeros\n",
        "        for values in itertools.permutations(numbers, len(numbers)):\n",
        "            # Permutacion de operadores\n",
        "            # 4. Operaciones = (k-1)! Permutacionaciones de los k numeros obtenidos en el grupo de \"n\" posibles numeros\n",
        "            # Si tomamos 5 numeros combinados, deberiamos tomar 4 operadores logicos, si son 4 entonces sera 3,....\n",
        "            for oper in itertools.permutations(operators, len(numbers)-1):\n",
        "                # Creamos una expresion aritmetica con elementos permutados y los operadores permutados\n",
        "                formula = \"\".join(o+v for o, v in zip([\"\"]+list(oper), values))\n",
        "                # Restriccion: el resultado debe ser entero\n",
        "                if isinstance(eval(formula), float) and (eval(formula)).is_integer():\n",
        "                    formulas.append(formula)\n",
        "    return formulas"
      ],
      "execution_count": 0,
      "outputs": []
    },
    {
      "cell_type": "markdown",
      "metadata": {
        "id": "tgrnsC2nkFa8",
        "colab_type": "text"
      },
      "source": [
        "Calcula la complejidad del algoritmo por fuerza bruta"
      ]
    },
    {
      "cell_type": "markdown",
      "metadata": {
        "id": "9eUd3xwckP68",
        "colab_type": "text"
      },
      "source": [
        "Respuesta"
      ]
    },
    {
      "cell_type": "markdown",
      "metadata": {
        "id": "zmHc2ordldR8",
        "colab_type": "text"
      },
      "source": [
        "**De acuerdo a los comentarios del codigo arriba (PUNTO 1,2,3 Y 4)... El numero de operaciones depende de \"n\", grupo de numeros, y de k, cuantos numeros se elijen, En general la complejidad sera de O(n!) con un k < n**"
      ]
    },
    {
      "cell_type": "markdown",
      "metadata": {
        "id": "txbrmLmskReM",
        "colab_type": "text"
      },
      "source": [
        "(*)Diseña un algoritmo que mejore la complejidad del algortimo por fuerza bruta. Argumenta porque crees que mejora el algoritmo por fuerza bruta"
      ]
    },
    {
      "cell_type": "markdown",
      "metadata": {
        "id": "hLrVwt5QkZPD",
        "colab_type": "text"
      },
      "source": [
        "Respuesta:\n",
        "- En el algoritmo por Fuerza Bruta, iteramos para formar la expresion completa y evaluamos cada expresion, eso quitar mucha eficiencia a la solucion.\n",
        "\n",
        "- Se puede optar por una estructura de tipo **arbol** donde\n",
        "  - Primer nodo es uno de nuestros numeros obtenidos al azar\n",
        "  - Un nodo vendria a ser un operador elegido al azar, y exploramos soluciones en esa rama\n",
        "  - Si un node es de tipo (/) podemos evaluar expresiones parciales, con elsiguiente numero entero a elegir. Ejemplo:   5 % 3, 4+3/9, etc, es asi como al ser este una expresion no entera, **se puede descartar y continuar con la siguiente rama, y asi no buscar soluciones innecesarias en ella** \n",
        "\n",
        "- El siguiente seudocodigo expresa como podria reducirse un poco la labor de iterar sobre numero y operaciones a fin de evaluar expresion parciales y ver si cumplen las restricciones del caso,(ser entero).\n",
        "\n"
      ]
    },
    {
      "cell_type": "markdown",
      "metadata": {
        "id": "F3AlgaekuqNE",
        "colab_type": "text"
      },
      "source": [
        "\n",
        "```\n",
        "FUN PERMUTAR_OPERADORES( LISTA OPERADORES,LISTA NUMEROS, INT POS, STRING EXPRESION):\n",
        "\n",
        "    EXPRESION.CONCAT(NUMEROS.GET(POS)\n",
        "    IF POS == COUNT(NUMEROS) - 4 // 5 ELEMENTOS PARA 4 OPERADORES:\n",
        "        IF ES_ENTERA(EVAL(EXPRESSION)):\n",
        "            RETURN EXPRESION\n",
        "        ELSE \n",
        "            RETURN \"NO SOLUTION\" // DESCARTA SOLUCION Y PASARIA AL SIGUIENTE NODO\n",
        "    ELSE:\n",
        "        FOR OPERADOR IN OPERADORES: \n",
        "            // IF PARA EVALUAR LA EXPRESION OBTENIDA HASTA EL MOMENTO\n",
        "            IF ES_ENTERA(EVAL(EXPRESION):\n",
        "                // FUNCION RECURSIVA, DONDE SE OBTIENE POR OPERADOR UN NUEVO LLAMADO\n",
        "                PERMUTAR_OPERADORES(OPERADORES.DELETE(OPERADOR),NUMEROS,POS +1, EXPRESION + OPERACION)\n",
        "            ELSE:\n",
        "                // DESCARTAMOS LA EXPRESION ARITMETICA PARCIAL SI NO ES DE VALOR ENTER\n",
        "                RETURN \"NO SOLUTION\" \n",
        "```"
      ]
    },
    {
      "cell_type": "code",
      "metadata": {
        "id": "m1eyM21Vkabg",
        "colab_type": "code",
        "colab": {}
      },
      "source": [
        ""
      ],
      "execution_count": 0,
      "outputs": []
    },
    {
      "cell_type": "markdown",
      "metadata": {
        "id": "eGDB4K6uk1iN",
        "colab_type": "text"
      },
      "source": [
        "(*)Calcula la complejidad del algoritmo "
      ]
    },
    {
      "cell_type": "markdown",
      "metadata": {
        "id": "NhpTh_BPk1ms",
        "colab_type": "text"
      },
      "source": [
        "Debido a la complejidad para aplicar el algoritmo anteriormente descrito y a la necesidad de tambien crear las funciones para descartar ramas completas y expresar las expresiones en forma de arbol, creo que seria complejo, encontra una complejidad, pero esto podria reducirla a una de tipo polinomica (k*n)"
      ]
    },
    {
      "cell_type": "code",
      "metadata": {
        "id": "nREzhkStlCq8",
        "colab_type": "code",
        "colab": {}
      },
      "source": [
        ""
      ],
      "execution_count": 0,
      "outputs": []
    },
    {
      "cell_type": "markdown",
      "metadata": {
        "id": "3M6QjTsSkmYe",
        "colab_type": "text"
      },
      "source": [
        "Según el problema (y tenga sentido), diseña un juego de datos de entrada aleatorios"
      ]
    },
    {
      "cell_type": "markdown",
      "metadata": {
        "id": "Jc3_OlyNkvjZ",
        "colab_type": "text"
      },
      "source": [
        "En mi opinion, para este caso **un juego de datos aleatoria no tiene sentido** ya que, realizar una entrada aleatoria sobre un juego de datos como: \n",
        "[\"1\", \"2\", \"3\", \"4\", \"5\", \"6\", \"7\", \"8\", \"9\"] es lo mismo que si fuera [\"8\", \"2\", \"4\", \"6\", \"9\",\"1\",\"5\",\"7\",\"3\"]   **porque el algoritmo esta combinando los valores inicialmente sin importar el orden** y luego permutandolos en grupos de 5 donde si importa orden.\n",
        "\n",
        "Lo mismo aplica a los operadores, se permutan pero finalmente se evaluan todas las posibilidades a fin que obtenga un valor entero."
      ]
    },
    {
      "cell_type": "code",
      "metadata": {
        "id": "sJ-N2etjkyWc",
        "colab_type": "code",
        "colab": {}
      },
      "source": [
        ""
      ],
      "execution_count": 0,
      "outputs": []
    },
    {
      "cell_type": "markdown",
      "metadata": {
        "id": "zy5ZROmjlGo1",
        "colab_type": "text"
      },
      "source": [
        "Aplica el algoritmo al juego de datos generado"
      ]
    },
    {
      "cell_type": "markdown",
      "metadata": {
        "id": "_Cmj-PVylMsa",
        "colab_type": "text"
      },
      "source": [
        "Respuesta"
      ]
    },
    {
      "cell_type": "code",
      "metadata": {
        "id": "Jkx8GeiYlUz1",
        "colab_type": "code",
        "colab": {}
      },
      "source": [
        ""
      ],
      "execution_count": 0,
      "outputs": []
    },
    {
      "cell_type": "markdown",
      "metadata": {
        "colab_type": "text",
        "id": "eTFWUJQrtGcv"
      },
      "source": [
        "Enumera las referencias que has utilizado(si ha sido necesario) para llevar a cabo el trabajo"
      ]
    },
    {
      "cell_type": "markdown",
      "metadata": {
        "id": "YKQ_mRBttWsP",
        "colab_type": "text"
      },
      "source": [
        "Respuesta\n",
        "\n",
        "[Resolviendo recurrencias](https://www.geeksforgeeks.org/analysis-algorithm-set-4-master-method-solving-recurrences/)\n",
        "\n",
        "\n",
        "[Divide y venceras](https://medium.com/algorithms-and-leetcode/note-for-divide-and-conquer-algorithms-c8bcffcd4440)"
      ]
    },
    {
      "cell_type": "markdown",
      "metadata": {
        "id": "kAkDPUyRtYyH",
        "colab_type": "text"
      },
      "source": [
        "Describe brevemente las lineas de como crees que es posible avanzar en el estudio del problema. Ten en cuenta incluso posibles variaciones del problema y/o variaciones al alza del tamaño"
      ]
    },
    {
      "cell_type": "markdown",
      "metadata": {
        "id": "IE0uZmo-tZu-",
        "colab_type": "text"
      },
      "source": [
        "- De acuerdo a la lecturas, creo que ayudaria al avance del problema, identificar funciones unitarias o los casos base a fin de definir\n",
        "- F(0), F(1)...\n",
        "- Asi se podria aplicar divide y venceras para encontrar la funcion para resolver cualquier F(n), donde n seria el espacio de numeros que se pueden tomar en cuenta con un k < numero de operadores\n",
        "- k < numero de operadores seria una variante pues con k' numeros escogidos, no siempre se querran utilizar k'-1 operadores, sino k, para este caso no era asi"
      ]
    }
  ]
}