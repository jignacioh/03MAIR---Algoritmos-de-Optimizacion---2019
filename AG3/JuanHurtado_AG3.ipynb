{
  "nbformat": 4,
  "nbformat_minor": 0,
  "metadata": {
    "colab": {
      "name": "JuanHurtado - AG3.ipynb",
      "provenance": [],
      "authorship_tag": "ABX9TyOac9oIZzqFJOygY24p94RI",
      "include_colab_link": true
    },
    "kernelspec": {
      "name": "python3",
      "display_name": "Python 3"
    }
  },
  "cells": [
    {
      "cell_type": "markdown",
      "metadata": {
        "id": "view-in-github",
        "colab_type": "text"
      },
      "source": [
        "<a href=\"https://colab.research.google.com/github/jignacioh/03MAIR---Algoritmos-de-Optimizacion---2019/blob/master/AG3/JuanHurtado_AG3.ipynb\" target=\"_parent\"><img src=\"https://colab.research.google.com/assets/colab-badge.svg\" alt=\"Open In Colab\"/></a>"
      ]
    },
    {
      "cell_type": "code",
      "metadata": {
        "id": "CE4WtIMLjG2p",
        "colab_type": "code",
        "colab": {}
      },
      "source": [
        "# ACTIVIDAD GUIADA DE ALGORITMOS DE OPTIMIZACION\n",
        "# JUAN HURTADO\n",
        "# https://colab.research.google.com/drive/1t0J8vhcTikegUHT3Lx1S8cya86fY2tsZ"
      ],
      "execution_count": 0,
      "outputs": []
    },
    {
      "cell_type": "markdown",
      "metadata": {
        "id": "2RbRAda-i_oP",
        "colab_type": "text"
      },
      "source": [
        "# ACTIVIDAD GUIADA DE ALGORITMOS DE OPTIMIZACION\n",
        "### JUAN HURTADO\n",
        "###https://colab.research.google.com/drive/1t0J8vhcTikegUHT3Lx1S8cya86fY2tsZ"
      ]
    },
    {
      "cell_type": "code",
      "metadata": {
        "id": "SgZMhGSLiu6t",
        "colab_type": "code",
        "colab": {
          "base_uri": "https://localhost:8080/",
          "height": 121
        },
        "outputId": "60c6b678-0a46-44cc-b130-06a266bd6614"
      },
      "source": [
        "!pip install requests\n",
        "\n",
        "import urllib.request\n",
        "file = \"swiss42.tsp\"\n",
        "urllib.request.urlretrieve(\"http://elib.zib.de/pub/mp-testdata/tsp/tsplib/tsp/swiss42.tsp\", file)"
      ],
      "execution_count": 1,
      "outputs": [
        {
          "output_type": "stream",
          "text": [
            "Requirement already satisfied: requests in /usr/local/lib/python3.6/dist-packages (2.21.0)\n",
            "Requirement already satisfied: chardet<3.1.0,>=3.0.2 in /usr/local/lib/python3.6/dist-packages (from requests) (3.0.4)\n",
            "Requirement already satisfied: certifi>=2017.4.17 in /usr/local/lib/python3.6/dist-packages (from requests) (2019.11.28)\n",
            "Requirement already satisfied: idna<2.9,>=2.5 in /usr/local/lib/python3.6/dist-packages (from requests) (2.8)\n",
            "Requirement already satisfied: urllib3<1.25,>=1.21.1 in /usr/local/lib/python3.6/dist-packages (from requests) (1.24.3)\n"
          ],
          "name": "stdout"
        },
        {
          "output_type": "execute_result",
          "data": {
            "text/plain": [
              "('swiss42.tsp', <http.client.HTTPMessage at 0x7f4542228cc0>)"
            ]
          },
          "metadata": {
            "tags": []
          },
          "execution_count": 1
        }
      ]
    }
  ]
}