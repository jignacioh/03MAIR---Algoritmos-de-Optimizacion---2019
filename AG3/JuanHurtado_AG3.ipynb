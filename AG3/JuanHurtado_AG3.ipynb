{
  "nbformat": 4,
  "nbformat_minor": 0,
  "metadata": {
    "colab": {
      "name": "JuanHurtado - AG3.ipynb",
      "provenance": [],
      "collapsed_sections": [],
      "authorship_tag": "ABX9TyNE2PJc8Y4Pcp0zSKdTMrXY",
      "include_colab_link": true
    },
    "kernelspec": {
      "name": "python3",
      "display_name": "Python 3"
    }
  },
  "cells": [
    {
      "cell_type": "markdown",
      "metadata": {
        "id": "view-in-github",
        "colab_type": "text"
      },
      "source": [
        "<a href=\"https://colab.research.google.com/github/jignacioh/03MAIR---Algoritmos-de-Optimizacion---2019/blob/master/AG3/JuanHurtado_AG3.ipynb\" target=\"_parent\"><img src=\"https://colab.research.google.com/assets/colab-badge.svg\" alt=\"Open In Colab\"/></a>"
      ]
    },
    {
      "cell_type": "code",
      "metadata": {
        "id": "CE4WtIMLjG2p",
        "colab_type": "code",
        "colab": {}
      },
      "source": [
        "# ACTIVIDAD GUIADA DE ALGORITMOS DE OPTIMIZACION\n",
        "# JUAN HURTADO\n",
        "# https://colab.research.google.com/drive/1t0J8vhcTikegUHT3Lx1S8cya86fY2tsZ"
      ],
      "execution_count": 0,
      "outputs": []
    },
    {
      "cell_type": "markdown",
      "metadata": {
        "id": "2RbRAda-i_oP",
        "colab_type": "text"
      },
      "source": [
        "# ACTIVIDAD GUIADA DE ALGORITMOS DE OPTIMIZACION\n",
        "### JUAN HURTADO\n",
        "###https://colab.research.google.com/drive/1t0J8vhcTikegUHT3Lx1S8cya86fY2tsZ"
      ]
    },
    {
      "cell_type": "code",
      "metadata": {
        "id": "SgZMhGSLiu6t",
        "colab_type": "code",
        "outputId": "1e5983dd-5edc-475d-efae-e5b9a6603034",
        "colab": {
          "base_uri": "https://localhost:8080/",
          "height": 121
        }
      },
      "source": [
        "!pip install requests\n",
        "\n",
        "import urllib.request\n",
        "file = \"swiss42.tsp\"\n",
        "urllib.request.urlretrieve(\"http://elib.zib.de/pub/mp-testdata/tsp/tsplib/tsp/swiss42.tsp\", file)"
      ],
      "execution_count": 0,
      "outputs": [
        {
          "output_type": "stream",
          "text": [
            "Requirement already satisfied: requests in /usr/local/lib/python3.6/dist-packages (2.21.0)\n",
            "Requirement already satisfied: chardet<3.1.0,>=3.0.2 in /usr/local/lib/python3.6/dist-packages (from requests) (3.0.4)\n",
            "Requirement already satisfied: idna<2.9,>=2.5 in /usr/local/lib/python3.6/dist-packages (from requests) (2.8)\n",
            "Requirement already satisfied: urllib3<1.25,>=1.21.1 in /usr/local/lib/python3.6/dist-packages (from requests) (1.24.3)\n",
            "Requirement already satisfied: certifi>=2017.4.17 in /usr/local/lib/python3.6/dist-packages (from requests) (2019.11.28)\n"
          ],
          "name": "stdout"
        },
        {
          "output_type": "execute_result",
          "data": {
            "text/plain": [
              "('swiss42.tsp', <http.client.HTTPMessage at 0x7f45419c37f0>)"
            ]
          },
          "metadata": {
            "tags": []
          },
          "execution_count": 4
        }
      ]
    },
    {
      "cell_type": "code",
      "metadata": {
        "id": "FJ5LQ4eKl-pP",
        "colab_type": "code",
        "outputId": "075339a3-3d82-4e6b-a0ab-726a378271b8",
        "colab": {
          "base_uri": "https://localhost:8080/",
          "height": 86
        }
      },
      "source": [
        "!pip install tsplib95"
      ],
      "execution_count": 0,
      "outputs": [
        {
          "output_type": "stream",
          "text": [
            "Requirement already satisfied: tsplib95 in /usr/local/lib/python3.6/dist-packages (0.6.1)\n",
            "Requirement already satisfied: Click>=6.0 in /usr/local/lib/python3.6/dist-packages (from tsplib95) (7.0)\n",
            "Requirement already satisfied: networkx~=2.1 in /usr/local/lib/python3.6/dist-packages (from tsplib95) (2.4)\n",
            "Requirement already satisfied: decorator>=4.3.0 in /usr/local/lib/python3.6/dist-packages (from networkx~=2.1->tsplib95) (4.4.1)\n"
          ],
          "name": "stdout"
        }
      ]
    },
    {
      "cell_type": "code",
      "metadata": {
        "id": "VJidK7BpmO8M",
        "colab_type": "code",
        "colab": {}
      },
      "source": [
        "import tsplib95\n",
        "import random\n",
        "from math import e"
      ],
      "execution_count": 0,
      "outputs": []
    },
    {
      "cell_type": "code",
      "metadata": {
        "id": "EfdC5sBamRbE",
        "colab_type": "code",
        "colab": {}
      },
      "source": [
        "problem = tsplib95.load_problem(file)"
      ],
      "execution_count": 0,
      "outputs": []
    },
    {
      "cell_type": "code",
      "metadata": {
        "id": "E3vZ5qeumTqG",
        "colab_type": "code",
        "colab": {}
      },
      "source": [
        "len(list(problem.get_nodes()))\n",
        "\n",
        "Nodos = list(problem.get_nodes())\n",
        "Aristas = list(problem.get_edges())"
      ],
      "execution_count": 0,
      "outputs": []
    },
    {
      "cell_type": "code",
      "metadata": {
        "id": "3rYs8_3OmTuO",
        "colab_type": "code",
        "colab": {}
      },
      "source": [
        "# Crea solucion aleatoria empezando en el nodo 0\n",
        "def crear_solucion(Nodos): \n",
        "  solucion = [0]\n",
        "  for i in range(len(Nodos)-1):\n",
        "    # Toma nodo no elegido antes\n",
        "    solucion = solucion + [random.choice(list(set(Nodos) - set(solucion)))]\n",
        "  return solucion "
      ],
      "execution_count": 0,
      "outputs": []
    },
    {
      "cell_type": "code",
      "metadata": {
        "id": "GojhDLYJmTzd",
        "colab_type": "code",
        "outputId": "4c610f72-cf8d-4696-f44a-424203a46099",
        "colab": {
          "base_uri": "https://localhost:8080/",
          "height": 54
        }
      },
      "source": [
        "solucion = crear_solucion(Nodos)\n",
        "print(solucion)"
      ],
      "execution_count": 0,
      "outputs": [
        {
          "output_type": "stream",
          "text": [
            "[0, 7, 28, 5, 21, 37, 9, 11, 30, 6, 23, 4, 33, 1, 26, 17, 25, 20, 41, 13, 10, 27, 12, 35, 31, 40, 22, 34, 3, 32, 16, 14, 15, 2, 29, 36, 8, 24, 39, 38, 18, 19]\n"
          ],
          "name": "stdout"
        }
      ]
    },
    {
      "cell_type": "code",
      "metadata": {
        "id": "I7gxBQwumT3r",
        "colab_type": "code",
        "colab": {}
      },
      "source": [
        "#Devuelve la distancia entre dos nodos\n",
        "def distancia(a,b, problem):\n",
        "  return problem.wfunc(a,b)"
      ],
      "execution_count": 0,
      "outputs": []
    },
    {
      "cell_type": "code",
      "metadata": {
        "id": "J0XtVxHbpnMw",
        "colab_type": "code",
        "outputId": "12cd4cff-bd1e-42f1-a902-9a7df28d17b6",
        "colab": {
          "base_uri": "https://localhost:8080/",
          "height": 34
        }
      },
      "source": [
        "# Distancia entre el nodo 0 y 1\n",
        "distancia(0,1,problem)"
      ],
      "execution_count": 0,
      "outputs": [
        {
          "output_type": "execute_result",
          "data": {
            "text/plain": [
              "15"
            ]
          },
          "metadata": {
            "tags": []
          },
          "execution_count": 22
        }
      ]
    },
    {
      "cell_type": "code",
      "metadata": {
        "id": "aKg-Hst6mT72",
        "colab_type": "code",
        "colab": {}
      },
      "source": [
        "# Devuelve la distancia total de una trayectoria\n",
        "# Añade todos los nodos recorridos\n",
        "def distancia_total(solucion, problem):\n",
        "    distancia_total = 0\n",
        "    for i in range(len(solucion)-1):\n",
        "        distancia_total += distancia(solucion[i] ,solucion[i+1] ,  problem)\n",
        "    return distancia_total + distancia(solucion[len(solucion)-1] ,solucion[0], problem)"
      ],
      "execution_count": 0,
      "outputs": []
    },
    {
      "cell_type": "code",
      "metadata": {
        "id": "VdhkcVgKqS60",
        "colab_type": "code",
        "outputId": "701e8779-7089-4cfa-ef65-730e81e49bcb",
        "colab": {
          "base_uri": "https://localhost:8080/",
          "height": 34
        }
      },
      "source": [
        "solucion = crear_solucion(Nodos)\n",
        "# Distancia de una solucion aleatoria\n",
        "distancia_total(solucion, problem)"
      ],
      "execution_count": 0,
      "outputs": [
        {
          "output_type": "execute_result",
          "data": {
            "text/plain": [
              "4367"
            ]
          },
          "metadata": {
            "tags": []
          },
          "execution_count": 23
        }
      ]
    },
    {
      "cell_type": "code",
      "metadata": {
        "id": "PNfsSrLVmT-1",
        "colab_type": "code",
        "colab": {}
      },
      "source": [
        "#Busqueda aleatorio\n",
        "def busqueda_aleatoria(problem, N):\n",
        "    mejor_solucion = crear_solucion(Nodos)\n",
        "    mejor_valor    = distancia_total(mejor_solucion, problem)\n",
        "\n",
        "    # Cada iteracion genera mejor solucion\n",
        "    for i in range(N):\n",
        "        solucion = crear_solucion(Nodos)\n",
        "        valor    = distancia_total(solucion, problem)\n",
        "        # comparando la solucion actual con la anterior, sino continuamos\n",
        "        if valor < mejor_valor:\n",
        "            mejor_solucion = solucion\n",
        "            mejor_valor = valor\n",
        "\n",
        "    print(\"La mejor solucion es \",mejor_valor,  mejor_solucion)"
      ],
      "execution_count": 0,
      "outputs": []
    },
    {
      "cell_type": "code",
      "metadata": {
        "id": "orYA7Rw-mfQG",
        "colab_type": "code",
        "outputId": "001352f1-a8a8-470e-b6f5-1b921b6a2476",
        "colab": {
          "base_uri": "https://localhost:8080/",
          "height": 54
        }
      },
      "source": [
        "busqueda_aleatoria(problem, 30000)"
      ],
      "execution_count": 0,
      "outputs": [
        {
          "output_type": "stream",
          "text": [
            "La mejor solucion es  3543 [0, 22, 10, 41, 23, 12, 20, 32, 7, 9, 8, 27, 11, 38, 24, 40, 29, 33, 34, 30, 36, 35, 17, 14, 15, 18, 31, 1, 2, 39, 28, 26, 3, 19, 6, 13, 4, 5, 37, 16, 25, 21]\n"
          ],
          "name": "stdout"
        }
      ]
    },
    {
      "cell_type": "code",
      "metadata": {
        "colab_type": "code",
        "id": "RgiguRojsS5u",
        "colab": {}
      },
      "source": [
        "def genera_vecina(solucion):\n",
        "  #Generador de soluciones vecinas: 2-opt (intercambiar 2 nodos) Si hay N nodos se generan (N-1)x(N-2)/2 soluciones\n",
        "  #print(solucion)\n",
        "  mejor_solucion = []\n",
        "  mejor_distancia = 10e100\n",
        "  for i in range(1,len(solucion)-1):\n",
        "    for j in range(i+1, len(solucion)):\n",
        "      vecina = solucion[:i] + [solucion[j]] + solucion[i+1:j] + [solucion[i]] + solucion[j+1:] \n",
        "      distancia_vecina = distancia_total(vecina, problem)\n",
        "      if distancia_vecina <= mejor_distancia:\n",
        "        mejor_distancia = distancia_vecina\n",
        "        mejor_solucion = vecina\n",
        "\n",
        "  #print(mejor_distancia,mejor_solucion)\n",
        "  return mejor_solucion"
      ],
      "execution_count": 0,
      "outputs": []
    },
    {
      "cell_type": "code",
      "metadata": {
        "id": "QjJrTKSDmfVs",
        "colab_type": "code",
        "colab": {}
      },
      "source": [
        "\n",
        "def genera_vecina(solucion):\n",
        "  #Generador de soluciones vecinas: 2-opt (intercambiar 2 nodos) Si hay N nodos se generan (N-1)x(N-2)/2 soluciones\n",
        "    print(solucion)\n",
        "    mejor_solucion = []\n",
        "    mejor_distancia = 10e100\n",
        "    for i in range(1,len(solucion)-1):\n",
        "        for j in range(i+1, len(solucion)):\n",
        "            vecina = solucion[:i] + [solucion[j]] + solucion[i+1:j] + [solucion[i]] + solucion[j+1:] \n",
        "            distancia_vecina = distancia_total(vecina, problem)\n",
        "            if distancia_vecina <= mejor_distancia:\n",
        "                mejor_distancia = distancia_vecina\n",
        "                mejor_solucion = vecina\n",
        "    #print(mejor_solucion)\n",
        "    return mejor_solucion\n",
        "      "
      ],
      "execution_count": 0,
      "outputs": []
    },
    {
      "cell_type": "code",
      "metadata": {
        "id": "4oDL7wTcmfaq",
        "colab_type": "code",
        "outputId": "b3bedcec-3225-49a5-e0de-d77b7ca3b385",
        "colab": {
          "base_uri": "https://localhost:8080/",
          "height": 54
        }
      },
      "source": [
        "solucion = crear_solucion(Nodos)\n",
        "mejor_solucion = genera_vecina(solucion)"
      ],
      "execution_count": 0,
      "outputs": [
        {
          "output_type": "stream",
          "text": [
            "[0, 11, 9, 1, 39, 30, 24, 12, 17, 31, 3, 6, 10, 35, 41, 33, 26, 36, 18, 22, 21, 34, 40, 19, 2, 25, 29, 38, 15, 28, 14, 16, 32, 27, 23, 7, 4, 37, 20, 5, 13, 8]\n"
          ],
          "name": "stdout"
        }
      ]
    },
    {
      "cell_type": "code",
      "metadata": {
        "id": "wNMrYnDYmfdi",
        "colab_type": "code",
        "colab": {}
      },
      "source": [
        "def busqueda_local(problem, N):\n",
        "  #problem = datos del problema\n",
        "  #N = numero de iteraciones\n",
        "  \n",
        "    mejor_solucion = []\n",
        "    # valor muy alto\n",
        "    mejor_distancia = 10e100\n",
        "  \n",
        "    solucion_referencia = crear_solucion(Nodos)\n",
        "  \n",
        "    for i in range(N):\n",
        "        vecina = genera_vecina(solucion_referencia)\n",
        "        distancia_vecina = distancia_total(vecina, problem)\n",
        "        # compara solucion inicial con la nueva encontrada usando un \"vecina\"\n",
        "        if distancia_vecina <= mejor_distancia:\n",
        "            mejor_solucion = vecina\n",
        "            mejor_distancia = distancia_vecina\n",
        "        \n",
        "        solucion_referencia = vecina\n",
        "    print(\"La mejor solución encontrada es \" , mejor_distancia , mejor_solucion)"
      ],
      "execution_count": 0,
      "outputs": []
    },
    {
      "cell_type": "code",
      "metadata": {
        "id": "uuH7eNhSmfYg",
        "colab_type": "code",
        "outputId": "7618f7be-8e4d-4ba4-8cb3-713c00f528fb",
        "colab": {
          "base_uri": "https://localhost:8080/",
          "height": 54
        }
      },
      "source": [
        "busqueda_local(problem,23)"
      ],
      "execution_count": 0,
      "outputs": [
        {
          "output_type": "stream",
          "text": [
            "La mejor solución encontrada es  2293 [0, 7, 5, 26, 18, 6, 1, 3, 27, 32, 34, 33, 20, 19, 13, 2, 38, 22, 39, 21, 24, 40, 23, 41, 37, 17, 31, 28, 8, 9, 30, 29, 10, 12, 14, 16, 15, 36, 35, 11, 25, 4]\n"
          ],
          "name": "stdout"
        }
      ]
    },
    {
      "cell_type": "code",
      "metadata": {
        "id": "1CTRNtIAvPU-",
        "colab_type": "code",
        "colab": {}
      },
      "source": [
        "def genera_vecina_aleatorio(solucion):\n",
        "  #Generador de 1 solucion vecina 2-opt (intercambiar 2 nodos)\n",
        "  #Se puede mejorar haciendo que la elección no se uniforme sino entre las que estén más proximas\n",
        "  i = random.choice(range(1, len(solucion)) )\n",
        "  j = random.choice(list(set(range(1, len(solucion))) - {i}))\n",
        "  if j<i:\n",
        "    i,j=j,i\n",
        "  vecina = list(solucion[:i] + [solucion[j]] + solucion[i+1:j] + [solucion[i]] + solucion[j+1:])\n",
        "  return vecina\n"
      ],
      "execution_count": 0,
      "outputs": []
    },
    {
      "cell_type": "code",
      "metadata": {
        "id": "yQugyD8xvWUV",
        "colab_type": "code",
        "outputId": "6a9b543e-e8d5-43fe-cfb0-ac55cb1ebb92",
        "colab": {
          "base_uri": "https://localhost:8080/",
          "height": 72
        }
      },
      "source": [
        "solucion = crear_solucion(Nodos)\n",
        "print(solucion,\"\\n\",genera_vecina_aleatorio(solucion))"
      ],
      "execution_count": 0,
      "outputs": [
        {
          "output_type": "stream",
          "text": [
            "[0, 27, 18, 19, 16, 12, 31, 15, 14, 13, 34, 30, 22, 23, 10, 29, 3, 36, 6, 1, 5, 21, 20, 41, 39, 32, 26, 33, 4, 9, 17, 7, 25, 8, 28, 40, 38, 11, 24, 2, 37, 35] \n",
            " [0, 27, 18, 19, 16, 12, 31, 15, 14, 13, 34, 30, 22, 23, 10, 29, 3, 36, 6, 1, 5, 21, 20, 41, 39, 32, 26, 33, 4, 7, 17, 9, 25, 8, 28, 40, 38, 11, 24, 2, 37, 35]\n"
          ],
          "name": "stdout"
        }
      ]
    },
    {
      "cell_type": "code",
      "metadata": {
        "id": "5I7Y3hILwhsv",
        "colab_type": "code",
        "colab": {}
      },
      "source": [
        "#Funcion de probabilidad para determinar si se cambia \n",
        "#a una solución peor respecto a la de referencia(exponencial)\n",
        "def probabilidad(T,d):\n",
        "  if random.random() <= math.exp(-1*d / T):\n",
        "    return True\n",
        "  else:\n",
        "    return False"
      ],
      "execution_count": 0,
      "outputs": []
    },
    {
      "cell_type": "code",
      "metadata": {
        "id": "eDGC0wI6xoaP",
        "colab_type": "code",
        "colab": {}
      },
      "source": [
        "def bajar_temperatura(T):\n",
        "  return T*.9999"
      ],
      "execution_count": 0,
      "outputs": []
    },
    {
      "cell_type": "code",
      "metadata": {
        "id": "Y3BsqqzkwlVk",
        "colab_type": "code",
        "colab": {}
      },
      "source": [
        "#####################################################################\n",
        "import math\n",
        "def recocido_simulado(problem, TEMPERATURA=1000):\n",
        "  #problem = datos del problema\n",
        "\n",
        "  solucion_referencia = crear_solucion(Nodos)\n",
        "  distancia_referencia = distancia_total(solucion_referencia, problem)\n",
        "  \n",
        "  mejor_solucion = []\n",
        "  mejor_distancia = 10e100\n",
        "\n",
        "  while TEMPERATURA > 1:\n",
        "    #Genera una solución vecina(aleatoria)\n",
        "    vecina = genera_vecina_aleatorio(solucion_referencia) \n",
        "    \n",
        "    #Calcula su valor(distancia)\n",
        "    distancia_vecina = distancia_total(vecina, problem)\n",
        "    \n",
        "    #Si es la mejor solución de todas se guarda\n",
        "    if distancia_vecina < mejor_distancia:\n",
        "      mejor_solucion = vecina\n",
        "      mejor_distancia = distancia_vecina\n",
        "      print('\\t****Encontrada mejor solucion:', mejor_distancia , mejor_solucion, '\\n')\n",
        "    \n",
        "    #Si la nueva vecina es mejor se cambia y si es peor se cambia según \n",
        "    # una probabilidad dependiente de T y de |distancia_referencia - distancia_vecina|\n",
        "    p = probabilidad(TEMPERATURA, abs(distancia_referencia - distancia_vecina) )\n",
        "    if distancia_vecina < distancia_referencia or p :\n",
        "      solucion_referencia = vecina\n",
        "      distancia_referencia = distancia_vecina\n",
        "    \n",
        "    TEMPERATURA = bajar_temperatura(TEMPERATURA)\n",
        "\n",
        "  print(\"La mejor solución encontrada es :\" , mejor_distancia, mejor_solucion  )\n",
        "  return mejor_solucion"
      ],
      "execution_count": 0,
      "outputs": []
    },
    {
      "cell_type": "code",
      "metadata": {
        "id": "NJLjTj6lw9WY",
        "colab_type": "code",
        "outputId": "fd690548-8541-4dc9-fa3d-b082d7eac4bc",
        "colab": {
          "base_uri": "https://localhost:8080/",
          "height": 1000
        }
      },
      "source": [
        "\n",
        "sol = recocido_simulado(problem, TEMPERATURA=1000)"
      ],
      "execution_count": 0,
      "outputs": [
        {
          "output_type": "stream",
          "text": [
            "\t****Encontrada mejor solucion: 4857 [0, 12, 32, 21, 30, 35, 24, 41, 13, 8, 40, 5, 37, 20, 10, 26, 7, 34, 38, 4, 36, 2, 23, 3, 28, 29, 14, 15, 17, 27, 1, 9, 33, 22, 25, 31, 11, 6, 19, 18, 16, 39] \n",
            "\n",
            "\t****Encontrada mejor solucion: 4764 [0, 12, 32, 21, 30, 35, 24, 41, 13, 8, 40, 5, 37, 20, 10, 26, 7, 34, 38, 4, 36, 2, 23, 3, 28, 29, 14, 15, 17, 27, 1, 9, 33, 22, 25, 31, 19, 6, 11, 18, 16, 39] \n",
            "\n",
            "\t****Encontrada mejor solucion: 4567 [0, 12, 32, 21, 30, 40, 24, 41, 13, 8, 35, 5, 37, 20, 10, 26, 7, 34, 38, 4, 36, 2, 23, 3, 28, 29, 14, 15, 17, 27, 1, 9, 33, 22, 25, 31, 19, 6, 11, 18, 16, 39] \n",
            "\n",
            "\t****Encontrada mejor solucion: 4346 [0, 12, 32, 21, 30, 40, 24, 41, 13, 8, 9, 5, 37, 20, 10, 1, 7, 34, 38, 4, 36, 2, 23, 3, 28, 29, 14, 16, 17, 27, 26, 35, 33, 22, 25, 31, 19, 6, 11, 18, 15, 39] \n",
            "\n",
            "\t****Encontrada mejor solucion: 4307 [0, 12, 32, 21, 30, 40, 24, 41, 13, 8, 9, 5, 37, 20, 10, 1, 7, 34, 38, 4, 36, 2, 6, 3, 28, 29, 14, 16, 17, 27, 26, 35, 33, 22, 25, 31, 19, 23, 11, 18, 15, 39] \n",
            "\n",
            "\t****Encontrada mejor solucion: 4282 [0, 12, 32, 21, 30, 40, 24, 41, 13, 8, 9, 5, 37, 20, 10, 1, 7, 34, 38, 4, 36, 2, 6, 3, 28, 29, 14, 16, 17, 27, 26, 35, 33, 22, 25, 31, 19, 23, 39, 18, 15, 11] \n",
            "\n",
            "\t****Encontrada mejor solucion: 4018 [0, 12, 25, 21, 30, 40, 24, 41, 13, 8, 9, 5, 37, 20, 10, 1, 7, 34, 38, 4, 36, 2, 6, 3, 28, 29, 14, 16, 17, 27, 26, 35, 33, 22, 32, 31, 19, 23, 39, 18, 15, 11] \n",
            "\n",
            "\t****Encontrada mejor solucion: 3980 [0, 12, 25, 11, 23, 40, 24, 41, 13, 8, 9, 5, 37, 20, 10, 1, 7, 34, 38, 4, 36, 2, 6, 3, 28, 29, 14, 16, 17, 27, 26, 35, 33, 22, 32, 31, 19, 30, 39, 18, 15, 21] \n",
            "\n",
            "\t****Encontrada mejor solucion: 3926 [0, 12, 25, 11, 23, 40, 24, 41, 13, 8, 9, 5, 37, 20, 10, 1, 7, 34, 38, 4, 36, 2, 6, 3, 21, 29, 14, 16, 17, 27, 26, 35, 33, 22, 32, 31, 19, 30, 39, 18, 15, 28] \n",
            "\n",
            "\t****Encontrada mejor solucion: 3812 [0, 15, 18, 12, 23, 40, 24, 29, 3, 4, 7, 5, 8, 21, 35, 31, 32, 2, 38, 37, 36, 16, 6, 17, 20, 41, 34, 14, 1, 27, 26, 10, 11, 22, 33, 13, 19, 30, 39, 25, 9, 28] \n",
            "\n",
            "\t****Encontrada mejor solucion: 3762 [0, 20, 32, 29, 39, 34, 35, 1, 3, 28, 33, 14, 21, 22, 9, 24, 38, 23, 41, 10, 4, 30, 31, 7, 11, 40, 19, 12, 13, 5, 37, 36, 2, 18, 27, 25, 8, 16, 6, 26, 17, 15] \n",
            "\n",
            "\t****Encontrada mejor solucion: 3692 [0, 13, 15, 34, 18, 10, 23, 4, 12, 11, 41, 25, 6, 20, 33, 1, 21, 9, 37, 26, 16, 19, 29, 32, 30, 39, 40, 22, 35, 17, 5, 14, 36, 8, 38, 24, 3, 7, 31, 28, 2, 27] \n",
            "\n",
            "\t****Encontrada mejor solucion: 3576 [0, 16, 15, 34, 18, 10, 23, 4, 12, 11, 41, 25, 6, 20, 33, 1, 21, 9, 37, 26, 13, 19, 29, 32, 30, 39, 40, 22, 35, 17, 5, 14, 36, 8, 38, 24, 3, 7, 31, 28, 2, 27] \n",
            "\n",
            "\t****Encontrada mejor solucion: 3575 [0, 39, 25, 26, 5, 18, 4, 6, 31, 37, 36, 35, 15, 11, 1, 8, 29, 41, 23, 24, 21, 9, 27, 30, 10, 33, 3, 34, 7, 28, 40, 17, 32, 2, 22, 38, 14, 16, 13, 19, 12, 20] \n",
            "\n",
            "\t****Encontrada mejor solucion: 3461 [0, 39, 25, 26, 5, 18, 4, 6, 31, 37, 36, 35, 15, 11, 1, 8, 29, 41, 23, 24, 21, 9, 27, 30, 10, 33, 3, 2, 7, 28, 40, 17, 32, 34, 22, 38, 14, 16, 13, 19, 12, 20] \n",
            "\n",
            "\t****Encontrada mejor solucion: 3459 [0, 39, 25, 26, 5, 18, 4, 2, 31, 37, 36, 35, 15, 11, 1, 8, 29, 41, 23, 24, 21, 9, 27, 30, 10, 33, 3, 6, 7, 28, 40, 17, 32, 34, 22, 38, 14, 16, 13, 19, 12, 20] \n",
            "\n",
            "\t****Encontrada mejor solucion: 3448 [0, 39, 25, 26, 5, 18, 4, 2, 37, 31, 36, 35, 15, 11, 1, 8, 29, 41, 23, 24, 21, 9, 27, 30, 10, 33, 3, 6, 7, 28, 40, 17, 32, 34, 22, 38, 14, 16, 13, 19, 12, 20] \n",
            "\n",
            "\t****Encontrada mejor solucion: 3427 [0, 39, 25, 26, 5, 18, 4, 2, 37, 31, 36, 35, 15, 11, 1, 8, 29, 41, 23, 24, 21, 9, 27, 30, 10, 33, 3, 6, 7, 28, 38, 17, 32, 34, 22, 40, 14, 16, 13, 19, 12, 20] \n",
            "\n",
            "\t****Encontrada mejor solucion: 3387 [0, 39, 25, 13, 5, 18, 4, 2, 37, 31, 36, 35, 15, 1, 11, 8, 29, 41, 23, 24, 21, 9, 28, 30, 10, 33, 3, 6, 7, 27, 38, 17, 32, 34, 22, 40, 14, 16, 26, 19, 12, 20] \n",
            "\n",
            "\t****Encontrada mejor solucion: 3308 [0, 39, 25, 13, 5, 18, 4, 2, 37, 31, 36, 35, 15, 1, 11, 8, 29, 41, 23, 24, 21, 9, 28, 30, 10, 33, 3, 6, 7, 27, 38, 17, 32, 34, 22, 40, 14, 16, 19, 26, 12, 20] \n",
            "\n",
            "\t****Encontrada mejor solucion: 3246 [0, 17, 25, 13, 5, 18, 4, 2, 37, 31, 36, 35, 15, 1, 11, 8, 29, 41, 23, 24, 21, 9, 28, 30, 10, 33, 3, 6, 7, 27, 38, 39, 32, 34, 22, 40, 14, 16, 19, 26, 12, 20] \n",
            "\n",
            "\t****Encontrada mejor solucion: 3200 [0, 8, 14, 25, 41, 24, 21, 23, 13, 16, 15, 9, 22, 38, 2, 11, 37, 5, 26, 1, 6, 3, 18, 12, 27, 32, 33, 4, 29, 28, 30, 40, 39, 10, 19, 36, 35, 34, 7, 17, 31, 20] \n",
            "\n",
            "\t****Encontrada mejor solucion: 3152 [0, 5, 25, 23, 9, 40, 41, 11, 28, 16, 30, 29, 3, 14, 36, 35, 31, 33, 13, 12, 10, 8, 19, 27, 17, 37, 15, 6, 18, 38, 22, 21, 24, 39, 1, 34, 32, 26, 7, 4, 2, 20] \n",
            "\n",
            "\t****Encontrada mejor solucion: 3121 [0, 4, 30, 23, 9, 40, 41, 11, 28, 16, 25, 29, 3, 14, 36, 35, 31, 7, 13, 12, 10, 8, 19, 1, 17, 37, 15, 6, 18, 26, 22, 21, 24, 39, 27, 34, 32, 38, 33, 5, 2, 20] \n",
            "\n",
            "\t****Encontrada mejor solucion: 3105 [0, 15, 5, 8, 23, 9, 26, 4, 13, 6, 3, 19, 14, 35, 36, 29, 10, 18, 37, 17, 30, 38, 20, 28, 2, 7, 27, 1, 16, 32, 31, 34, 33, 12, 39, 24, 22, 21, 40, 41, 25, 11] \n",
            "\n",
            "\t****Encontrada mejor solucion: 3067 [0, 1, 29, 30, 21, 9, 24, 38, 32, 2, 18, 39, 23, 11, 41, 28, 33, 34, 35, 20, 31, 25, 3, 4, 27, 6, 13, 19, 5, 8, 10, 12, 40, 22, 7, 36, 37, 16, 26, 14, 17, 15] \n",
            "\n",
            "\t****Encontrada mejor solucion: 3014 [0, 17, 6, 26, 37, 29, 4, 3, 2, 23, 41, 30, 27, 16, 14, 7, 38, 39, 28, 18, 34, 32, 20, 33, 35, 13, 5, 36, 15, 19, 12, 25, 11, 22, 21, 24, 40, 9, 8, 10, 1, 31] \n",
            "\n",
            "\t****Encontrada mejor solucion: 3010 [0, 19, 6, 13, 11, 34, 33, 27, 32, 10, 29, 16, 3, 14, 30, 22, 39, 21, 9, 40, 24, 38, 20, 35, 36, 17, 31, 37, 7, 5, 25, 4, 26, 23, 18, 12, 8, 41, 15, 1, 28, 2] \n",
            "\n",
            "\t****Encontrada mejor solucion: 2968 [0, 19, 6, 13, 11, 34, 33, 27, 32, 10, 29, 16, 1, 14, 30, 22, 39, 21, 9, 40, 24, 38, 20, 35, 36, 17, 31, 37, 7, 5, 25, 4, 26, 23, 18, 12, 8, 41, 15, 3, 28, 2] \n",
            "\n",
            "\t****Encontrada mejor solucion: 2877 [0, 1, 37, 27, 4, 28, 32, 17, 7, 14, 30, 34, 20, 33, 36, 31, 6, 19, 5, 9, 39, 11, 12, 29, 10, 2, 38, 22, 24, 21, 25, 18, 26, 13, 15, 16, 35, 23, 41, 40, 8, 3] \n",
            "\n",
            "\t****Encontrada mejor solucion: 2848 [0, 1, 37, 27, 4, 28, 32, 17, 14, 7, 30, 34, 20, 33, 36, 31, 6, 19, 5, 39, 9, 11, 12, 29, 10, 2, 38, 22, 24, 21, 23, 18, 26, 13, 15, 16, 35, 25, 41, 40, 8, 3] \n",
            "\n",
            "\t****Encontrada mejor solucion: 2830 [0, 1, 37, 27, 2, 28, 32, 17, 14, 7, 30, 34, 20, 33, 36, 31, 6, 19, 5, 39, 9, 11, 12, 29, 10, 4, 38, 22, 24, 21, 23, 18, 26, 13, 15, 16, 35, 25, 41, 40, 8, 3] \n",
            "\n",
            "\t****Encontrada mejor solucion: 2807 [0, 1, 35, 27, 2, 28, 32, 17, 14, 7, 37, 34, 20, 33, 36, 31, 6, 19, 5, 39, 25, 11, 12, 29, 30, 10, 38, 22, 21, 24, 23, 18, 26, 13, 15, 16, 4, 9, 41, 8, 40, 3] \n",
            "\n",
            "\t****Encontrada mejor solucion: 2727 [0, 1, 35, 27, 2, 28, 32, 17, 14, 7, 37, 34, 20, 33, 36, 31, 6, 19, 5, 41, 25, 11, 12, 29, 30, 10, 38, 22, 21, 24, 23, 18, 26, 13, 15, 16, 4, 9, 39, 8, 40, 3] \n",
            "\n",
            "\t****Encontrada mejor solucion: 2645 [0, 1, 33, 27, 2, 28, 32, 17, 14, 7, 37, 34, 20, 35, 36, 31, 6, 19, 5, 41, 25, 11, 12, 29, 30, 10, 38, 22, 21, 24, 23, 18, 26, 13, 15, 16, 4, 9, 39, 8, 40, 3] \n",
            "\n",
            "\t****Encontrada mejor solucion: 2623 [0, 1, 33, 27, 2, 28, 37, 17, 14, 7, 32, 34, 20, 35, 36, 31, 6, 19, 5, 41, 25, 11, 12, 29, 30, 10, 38, 22, 21, 24, 23, 18, 26, 13, 15, 16, 4, 9, 39, 8, 40, 3] \n",
            "\n",
            "\t****Encontrada mejor solucion: 2534 [0, 18, 2, 27, 12, 13, 19, 5, 26, 1, 30, 8, 23, 40, 25, 11, 10, 22, 39, 38, 20, 33, 34, 28, 7, 32, 29, 41, 9, 21, 24, 3, 6, 16, 17, 35, 36, 31, 4, 15, 14, 37] \n",
            "\n",
            "\t****Encontrada mejor solucion: 2517 [0, 18, 2, 27, 12, 13, 19, 5, 26, 1, 30, 8, 23, 40, 25, 11, 10, 22, 39, 38, 20, 33, 34, 28, 6, 32, 29, 41, 9, 21, 24, 3, 7, 16, 17, 35, 36, 31, 4, 15, 14, 37] \n",
            "\n",
            "\t****Encontrada mejor solucion: 2444 [0, 28, 32, 7, 1, 13, 19, 26, 6, 18, 4, 27, 3, 41, 25, 8, 10, 30, 38, 34, 20, 5, 11, 12, 22, 29, 23, 39, 40, 21, 24, 9, 2, 17, 36, 35, 31, 37, 15, 16, 14, 33] \n",
            "\n",
            "\t****Encontrada mejor solucion: 2422 [0, 28, 32, 7, 1, 13, 19, 26, 6, 18, 4, 27, 3, 41, 25, 8, 29, 30, 38, 34, 20, 5, 11, 12, 22, 10, 23, 39, 40, 21, 24, 9, 2, 17, 36, 35, 31, 37, 15, 16, 14, 33] \n",
            "\n",
            "\t****Encontrada mejor solucion: 2339 [0, 28, 32, 7, 1, 13, 19, 26, 6, 18, 4, 27, 3, 10, 25, 8, 29, 30, 38, 34, 20, 5, 11, 12, 22, 41, 23, 39, 40, 21, 24, 9, 2, 17, 36, 35, 31, 37, 15, 16, 14, 33] \n",
            "\n",
            "\t****Encontrada mejor solucion: 2292 [0, 1, 38, 22, 30, 32, 34, 33, 20, 14, 16, 13, 7, 2, 39, 21, 40, 24, 9, 8, 25, 5, 41, 23, 3, 29, 28, 4, 18, 12, 11, 10, 27, 6, 26, 19, 15, 36, 35, 37, 17, 31] \n",
            "\n",
            "\t****Encontrada mejor solucion: 2242 [0, 1, 38, 22, 30, 32, 34, 33, 20, 14, 16, 13, 7, 2, 39, 21, 40, 24, 9, 8, 25, 5, 41, 23, 3, 29, 28, 4, 18, 12, 11, 10, 27, 6, 26, 19, 15, 37, 35, 36, 17, 31] \n",
            "\n",
            "\t****Encontrada mejor solucion: 2191 [0, 27, 3, 30, 20, 33, 34, 32, 31, 1, 6, 5, 26, 4, 2, 40, 24, 21, 22, 38, 18, 10, 12, 11, 25, 23, 41, 39, 28, 29, 8, 9, 7, 14, 16, 13, 19, 17, 36, 35, 37, 15] \n",
            "\n",
            "\t****Encontrada mejor solucion: 2168 [0, 11, 4, 3, 32, 34, 20, 33, 31, 1, 5, 18, 26, 6, 2, 39, 21, 24, 40, 22, 41, 23, 9, 10, 25, 12, 8, 30, 38, 29, 28, 27, 7, 14, 15, 16, 13, 19, 36, 35, 37, 17] \n",
            "\n",
            "\t****Encontrada mejor solucion: 2138 [0, 27, 4, 3, 32, 34, 20, 33, 31, 1, 11, 18, 26, 6, 2, 39, 21, 24, 40, 22, 41, 23, 9, 10, 25, 12, 8, 30, 38, 29, 28, 5, 7, 14, 15, 16, 13, 19, 36, 35, 37, 17] \n",
            "\n",
            "\t****Encontrada mejor solucion: 2136 [0, 4, 12, 20, 33, 34, 28, 27, 2, 1, 5, 13, 26, 18, 8, 40, 24, 21, 22, 39, 23, 9, 41, 10, 25, 11, 29, 30, 38, 32, 3, 6, 16, 15, 14, 7, 31, 35, 36, 19, 37, 17] \n",
            "\n",
            "\t****Encontrada mejor solucion: 2130 [0, 1, 8, 20, 33, 34, 38, 2, 3, 6, 5, 13, 26, 18, 10, 9, 24, 39, 22, 21, 40, 23, 11, 12, 25, 41, 29, 30, 28, 32, 27, 4, 16, 15, 14, 7, 31, 35, 36, 19, 37, 17] \n",
            "\n",
            "\t****Encontrada mejor solucion: 2093 [0, 1, 8, 20, 33, 34, 38, 2, 3, 6, 5, 13, 26, 18, 10, 9, 24, 39, 22, 21, 40, 23, 11, 12, 25, 41, 29, 30, 28, 32, 27, 4, 16, 19, 14, 7, 31, 35, 36, 15, 37, 17] \n",
            "\n",
            "\t****Encontrada mejor solucion: 2083 [0, 1, 27, 20, 33, 34, 38, 2, 3, 6, 5, 13, 26, 18, 10, 9, 24, 39, 22, 21, 40, 23, 11, 12, 25, 41, 29, 30, 28, 32, 8, 4, 16, 19, 14, 7, 31, 35, 36, 15, 37, 17] \n",
            "\n",
            "\t****Encontrada mejor solucion: 1980 [0, 1, 32, 20, 33, 34, 6, 26, 13, 19, 41, 8, 10, 18, 25, 9, 38, 22, 39, 24, 40, 21, 23, 11, 12, 5, 2, 30, 29, 28, 27, 3, 4, 15, 16, 14, 36, 35, 31, 7, 37, 17] \n",
            "\n",
            "\t****Encontrada mejor solucion: 1958 [0, 27, 1, 32, 33, 34, 20, 7, 19, 12, 18, 26, 11, 25, 10, 9, 38, 22, 39, 40, 24, 21, 23, 41, 8, 4, 29, 30, 2, 3, 28, 6, 5, 13, 16, 15, 36, 35, 31, 14, 37, 17] \n",
            "\n",
            "\t****Encontrada mejor solucion: 1956 [0, 27, 1, 32, 20, 34, 33, 7, 19, 12, 18, 26, 11, 25, 10, 4, 38, 22, 39, 40, 24, 21, 23, 41, 8, 9, 29, 30, 2, 3, 28, 6, 5, 13, 16, 15, 36, 35, 31, 14, 37, 17] \n",
            "\n",
            "\t****Encontrada mejor solucion: 1934 [0, 4, 1, 32, 20, 34, 33, 7, 19, 12, 18, 26, 11, 25, 10, 3, 38, 22, 39, 40, 24, 21, 9, 41, 23, 8, 29, 30, 27, 2, 28, 6, 5, 13, 16, 15, 36, 35, 31, 14, 37, 17] \n",
            "\n",
            "\t****Encontrada mejor solucion: 1921 [0, 4, 1, 32, 20, 33, 34, 7, 19, 12, 18, 26, 11, 25, 10, 3, 38, 22, 39, 40, 24, 21, 9, 41, 23, 8, 29, 30, 27, 2, 28, 6, 5, 13, 16, 15, 36, 35, 31, 14, 37, 17] \n",
            "\n",
            "\t****Encontrada mejor solucion: 1860 [0, 32, 30, 34, 20, 33, 2, 27, 3, 28, 26, 18, 9, 8, 29, 38, 22, 39, 24, 21, 40, 23, 41, 25, 11, 10, 1, 7, 6, 4, 12, 5, 13, 19, 16, 14, 15, 36, 35, 31, 17, 37] \n",
            "\n",
            "\t****Encontrada mejor solucion: 1838 [0, 32, 30, 33, 20, 34, 2, 27, 3, 18, 26, 28, 29, 8, 9, 38, 22, 39, 24, 21, 40, 23, 41, 25, 11, 10, 1, 7, 6, 4, 12, 5, 13, 19, 16, 14, 15, 36, 35, 31, 17, 37] \n",
            "\n",
            "\t****Encontrada mejor solucion: 1832 [0, 32, 30, 20, 33, 34, 2, 27, 3, 18, 26, 28, 29, 8, 9, 38, 22, 39, 24, 21, 40, 23, 41, 25, 11, 10, 1, 7, 6, 4, 12, 5, 13, 19, 16, 14, 15, 36, 35, 31, 17, 37] \n",
            "\n",
            "\t****Encontrada mejor solucion: 1826 [0, 32, 30, 20, 33, 34, 2, 27, 3, 18, 26, 28, 29, 8, 9, 38, 22, 39, 24, 21, 40, 23, 41, 25, 11, 10, 6, 7, 1, 4, 12, 5, 13, 19, 16, 14, 15, 36, 35, 31, 17, 37] \n",
            "\n",
            "\t****Encontrada mejor solucion: 1818 [0, 32, 30, 20, 33, 34, 28, 27, 2, 18, 26, 10, 29, 8, 9, 38, 22, 39, 24, 21, 40, 23, 41, 11, 25, 12, 1, 6, 4, 3, 7, 5, 13, 19, 16, 14, 15, 36, 35, 31, 17, 37] \n",
            "\n",
            "\t****Encontrada mejor solucion: 1807 [0, 32, 30, 20, 33, 34, 28, 27, 2, 18, 26, 10, 29, 8, 9, 38, 22, 39, 24, 21, 40, 23, 41, 11, 25, 12, 6, 1, 4, 3, 7, 5, 13, 19, 16, 14, 15, 36, 35, 31, 17, 37] \n",
            "\n",
            "\t****Encontrada mejor solucion: 1797 [0, 32, 30, 20, 33, 34, 28, 27, 2, 18, 26, 10, 8, 29, 9, 38, 22, 39, 24, 21, 40, 23, 41, 11, 25, 12, 6, 1, 4, 3, 7, 5, 13, 19, 16, 14, 15, 36, 35, 31, 17, 37] \n",
            "\n",
            "\t****Encontrada mejor solucion: 1777 [0, 7, 31, 20, 33, 34, 8, 10, 18, 1, 26, 3, 30, 29, 9, 38, 22, 39, 21, 24, 40, 23, 41, 25, 11, 12, 2, 27, 28, 4, 6, 5, 13, 19, 16, 14, 15, 37, 35, 36, 17, 32] \n",
            "\n",
            "\t****Encontrada mejor solucion: 1766 [0, 7, 31, 20, 33, 34, 8, 10, 18, 1, 26, 3, 30, 29, 9, 38, 22, 39, 21, 24, 40, 23, 41, 25, 11, 12, 2, 27, 28, 4, 6, 5, 13, 19, 16, 14, 15, 37, 36, 35, 17, 32] \n",
            "\n",
            "\t****Encontrada mejor solucion: 1744 [0, 7, 31, 20, 33, 34, 8, 10, 18, 1, 2, 3, 30, 29, 9, 38, 22, 39, 21, 24, 40, 23, 41, 25, 11, 12, 26, 27, 28, 4, 6, 5, 13, 19, 16, 14, 15, 37, 36, 35, 17, 32] \n",
            "\n",
            "\t****Encontrada mejor solucion: 1728 [0, 7, 31, 20, 33, 34, 30, 1, 26, 4, 3, 27, 2, 28, 29, 38, 22, 21, 40, 24, 39, 23, 41, 12, 11, 25, 10, 9, 8, 6, 18, 5, 13, 19, 16, 14, 15, 37, 36, 35, 17, 32] \n",
            "\n",
            "\t****Encontrada mejor solucion: 1708 [0, 7, 31, 20, 33, 34, 30, 1, 26, 4, 3, 27, 2, 28, 29, 38, 22, 21, 40, 24, 39, 23, 25, 12, 11, 10, 41, 9, 8, 18, 6, 5, 13, 19, 16, 14, 15, 37, 36, 35, 17, 32] \n",
            "\n",
            "\t****Encontrada mejor solucion: 1698 [0, 32, 20, 34, 33, 31, 1, 6, 26, 3, 2, 27, 30, 29, 28, 38, 22, 21, 39, 24, 40, 9, 41, 23, 11, 12, 25, 10, 8, 4, 18, 5, 13, 19, 14, 16, 15, 37, 17, 35, 36, 7] \n",
            "\n",
            "\t****Encontrada mejor solucion: 1644 [0, 32, 20, 34, 33, 31, 1, 6, 26, 3, 2, 27, 28, 29, 30, 38, 22, 21, 39, 24, 40, 9, 41, 23, 11, 12, 25, 10, 8, 4, 18, 5, 13, 19, 14, 16, 15, 37, 17, 35, 36, 7] \n",
            "\n",
            "\t****Encontrada mejor solucion: 1641 [0, 32, 20, 34, 33, 31, 1, 6, 26, 3, 2, 27, 28, 29, 30, 38, 22, 21, 39, 24, 40, 9, 41, 23, 12, 11, 25, 10, 8, 4, 18, 5, 13, 19, 14, 16, 15, 37, 17, 35, 36, 7] \n",
            "\n",
            "\t****Encontrada mejor solucion: 1616 [0, 31, 20, 34, 33, 32, 1, 26, 6, 3, 2, 27, 28, 29, 30, 38, 22, 21, 40, 24, 39, 9, 23, 41, 8, 11, 25, 10, 12, 18, 4, 5, 19, 13, 14, 16, 15, 37, 17, 35, 36, 7] \n",
            "\n",
            "\t****Encontrada mejor solucion: 1601 [0, 31, 20, 34, 33, 32, 1, 26, 6, 3, 2, 27, 28, 29, 30, 38, 22, 21, 40, 24, 39, 9, 23, 41, 8, 11, 25, 10, 12, 18, 4, 5, 19, 13, 14, 16, 15, 37, 36, 35, 17, 7] \n",
            "\n",
            "\t****Encontrada mejor solucion: 1596 [0, 31, 20, 34, 33, 32, 1, 26, 6, 3, 2, 27, 28, 29, 30, 38, 22, 39, 40, 24, 21, 9, 23, 41, 25, 11, 8, 10, 12, 18, 4, 5, 19, 13, 14, 16, 15, 37, 36, 35, 17, 7] \n",
            "\n",
            "\t****Encontrada mejor solucion: 1574 [0, 31, 20, 34, 33, 32, 1, 26, 4, 3, 2, 27, 28, 29, 30, 38, 22, 39, 40, 24, 21, 9, 23, 41, 25, 11, 8, 10, 12, 18, 6, 5, 19, 13, 14, 16, 15, 37, 36, 35, 17, 7] \n",
            "\n",
            "\t****Encontrada mejor solucion: 1568 [0, 31, 20, 34, 33, 32, 1, 26, 4, 3, 2, 27, 28, 29, 30, 38, 22, 39, 40, 24, 21, 9, 23, 41, 8, 11, 25, 10, 12, 18, 6, 5, 19, 13, 14, 16, 15, 37, 36, 35, 17, 7] \n",
            "\n",
            "\t****Encontrada mejor solucion: 1509 [0, 31, 20, 34, 33, 32, 1, 26, 4, 3, 2, 27, 28, 29, 30, 38, 22, 39, 40, 24, 21, 9, 23, 41, 8, 10, 25, 11, 12, 18, 6, 5, 19, 13, 14, 16, 15, 37, 36, 35, 17, 7] \n",
            "\n",
            "\t****Encontrada mejor solucion: 1484 [0, 31, 20, 34, 33, 32, 1, 6, 4, 3, 2, 27, 28, 29, 30, 38, 22, 39, 40, 24, 21, 9, 23, 41, 8, 10, 25, 11, 12, 18, 26, 5, 19, 13, 14, 16, 37, 15, 36, 35, 17, 7] \n",
            "\n",
            "\t****Encontrada mejor solucion: 1441 [0, 31, 20, 34, 33, 32, 1, 6, 4, 3, 2, 27, 28, 29, 30, 38, 22, 39, 40, 24, 21, 9, 23, 41, 8, 10, 25, 11, 12, 18, 26, 5, 19, 13, 14, 16, 15, 37, 36, 35, 17, 7] \n",
            "\n",
            "\t****Encontrada mejor solucion: 1420 [0, 31, 20, 33, 34, 32, 1, 6, 4, 3, 2, 27, 28, 29, 30, 38, 22, 39, 40, 24, 21, 9, 23, 41, 8, 10, 25, 11, 12, 18, 26, 5, 19, 13, 14, 16, 15, 37, 36, 35, 17, 7] \n",
            "\n",
            "\t****Encontrada mejor solucion: 1409 [0, 32, 34, 33, 20, 17, 7, 6, 4, 3, 2, 27, 28, 29, 30, 38, 22, 39, 21, 40, 24, 9, 23, 41, 8, 10, 25, 11, 12, 18, 26, 5, 13, 19, 16, 14, 15, 37, 36, 35, 31, 1] \n",
            "\n",
            "\t****Encontrada mejor solucion: 1396 [0, 32, 34, 33, 20, 17, 7, 6, 4, 3, 27, 2, 28, 29, 30, 38, 22, 39, 24, 40, 21, 9, 23, 41, 8, 10, 25, 11, 12, 18, 26, 5, 13, 19, 16, 14, 15, 37, 36, 35, 31, 1] \n",
            "\n",
            "\t****Encontrada mejor solucion: 1392 [0, 32, 34, 33, 20, 17, 7, 6, 4, 3, 27, 2, 28, 29, 30, 38, 22, 39, 24, 40, 21, 9, 23, 41, 8, 10, 25, 11, 12, 18, 26, 5, 13, 19, 14, 16, 15, 37, 36, 35, 31, 1] \n",
            "\n",
            "\t****Encontrada mejor solucion: 1385 [0, 32, 20, 33, 34, 7, 1, 6, 4, 3, 27, 2, 28, 29, 30, 38, 22, 39, 24, 40, 21, 9, 23, 41, 8, 10, 25, 11, 12, 18, 26, 5, 13, 19, 14, 16, 15, 37, 36, 35, 31, 17] \n",
            "\n",
            "\t****Encontrada mejor solucion: 1371 [0, 32, 34, 33, 20, 7, 1, 6, 4, 3, 27, 2, 28, 29, 30, 38, 22, 39, 21, 24, 40, 9, 23, 41, 8, 10, 25, 11, 12, 18, 26, 5, 13, 19, 14, 16, 15, 37, 36, 35, 31, 17] \n",
            "\n",
            "\t****Encontrada mejor solucion: 1370 [0, 32, 34, 33, 20, 7, 1, 6, 4, 3, 27, 2, 28, 29, 30, 38, 22, 39, 21, 24, 40, 23, 41, 9, 8, 10, 25, 11, 12, 18, 26, 5, 13, 19, 14, 16, 15, 37, 36, 35, 31, 17] \n",
            "\n",
            "La mejor solución encontrada es : 1370 [0, 32, 34, 33, 20, 7, 1, 6, 4, 3, 27, 2, 28, 29, 30, 38, 22, 39, 21, 24, 40, 23, 41, 9, 8, 10, 25, 11, 12, 18, 26, 5, 13, 19, 14, 16, 15, 37, 36, 35, 31, 17]\n"
          ],
          "name": "stdout"
        }
      ]
    },
    {
      "cell_type": "markdown",
      "metadata": {
        "id": "fijidPujx8Nx",
        "colab_type": "text"
      },
      "source": [
        "# COLONIA DE HORMIGA - METAHEURISTICAS"
      ]
    },
    {
      "cell_type": "code",
      "metadata": {
        "id": "khmDROqVyFHv",
        "colab_type": "code",
        "colab": {}
      },
      "source": [
        "def hormigas(problem, N) :\n",
        "  #problem = datos del problema\n",
        "  #N = Número de agentes(hormigas)\n",
        "    \n",
        "  #Nodos\n",
        "  Nodos = list(problem.get_nodes())\n",
        "  #Aristas\n",
        "  Aristas = list(problem.get_edges()) \n",
        "  \n",
        "  #Inicializa las aristas con una cantidad inicial de feromonas:1\n",
        "  T = [[ 1 for _ in range(len(Nodos)) ] for _ in range(len(Nodos))]\n",
        "  \n",
        "  #Se generan los agentes(hormigas) que serán estructuras de caminos desde 0\n",
        "  Hormiga = [[0] for _ in range(N)]\n",
        "\n",
        "  \n",
        "  # Recorre cada agente construyendo la solución\n",
        "  # cada hormiga hace un ciclo nuevo, y cada hormiga se beneficia de lo que hace las anteriores\n",
        "  # al construir un camnino\n",
        "  for h in range(N) :\n",
        "    #print(\"\\nAgente:\", h)\n",
        "    #Para cada agente se construye un camino\n",
        "    for i in range(len(Nodos)-1) :\n",
        "      \n",
        "      #Elige el siguiente nodo\n",
        "      Nuevo_Nodo = Add_Nodo(problem, Hormiga[h] ,T )\n",
        "      # valor 0 al inicio\n",
        "      # va construyendo el recorrido de la hormiga\n",
        "      Hormiga[h].append(Nuevo_Nodo)     \n",
        "    \n",
        "    #Incrementa feromonas en esa arista \n",
        "    T = Incrementa_Feromona(problem, T, Hormiga[h] )\n",
        "    #print(\"Feromonas(1)\", T)\n",
        "      \n",
        "    #Evapora Feromonas  \n",
        "    T = Evaporar_Feromonas(T)\n",
        "    #print(\"Feromonas(2)\", T)\n",
        "\n",
        "  #Seleccionamos el mejor agente, luego de generar los caminos d elas hormigas\n",
        "  mejor_solucion = []\n",
        "  mejor_distancia = 10e100\n",
        "  for h in range(N) :\n",
        "    distancia_actual = distancia_total(Hormiga[h], problem)\n",
        "    if distancia_actual < mejor_distancia:\n",
        "      mejor_solucion = Hormiga[h]\n",
        "      mejor_distancia =distancia_actual\n",
        "  \n",
        "  \n",
        "  print(mejor_solucion)\n",
        "  print(mejor_distancia)"
      ],
      "execution_count": 0,
      "outputs": []
    },
    {
      "cell_type": "code",
      "metadata": {
        "id": "Kh7AGK6gycib",
        "colab_type": "code",
        "colab": {}
      },
      "source": [
        "def Add_Nodo(problem, H ,T ) :\n",
        "  #Establecer una una funcion de probabilidad para \n",
        "  # añadir un nuevo nodo dependiendo de los nodos mas cercanos y de las feromonas depositadas\n",
        "  Nodos = list(problem.get_nodes())\n",
        "  return random.choice(   list(set(range(1,len(Nodos))) - set(H) )  )"
      ],
      "execution_count": 0,
      "outputs": []
    },
    {
      "cell_type": "code",
      "metadata": {
        "id": "OpkWyvP8zmKX",
        "colab_type": "code",
        "colab": {}
      },
      "source": [
        "def Incrementa_Feromona(problem, T, H):\n",
        "  #Incrementar segun la calidad de la solución. Añadir una cantidad inversamente proporcional a la distancia total \n",
        "  for i in range(len(H)-1):\n",
        "    T[H[i]][H[i+1]] += 1000/distancia_total(H, problem)\n",
        "  return T"
      ],
      "execution_count": 0,
      "outputs": []
    },
    {
      "cell_type": "code",
      "metadata": {
        "id": "YFGhETvpzqhX",
        "colab_type": "code",
        "colab": {}
      },
      "source": [
        "def Evaporar_Feromonas(T):\n",
        "  #Podemos elegir diferentes funciones de evaporación dependiendo de la cantidad actual y de la suma total de feromonas depositadas,...\n",
        "  #Evapora 0.3 el valor de la feromona, sin que baje de 1\n",
        "  T = [[ max(T[i][j] - 0.3 , 1) for i in range(len(Nodos)) ] for j in range(len(Nodos))]\n",
        "  return T"
      ],
      "execution_count": 0,
      "outputs": []
    },
    {
      "cell_type": "code",
      "metadata": {
        "id": "mePUvOZf0MEu",
        "colab_type": "code",
        "outputId": "ece8d8d6-77f8-44af-bb59-8dabc91f6f50",
        "colab": {
          "base_uri": "https://localhost:8080/",
          "height": 72
        }
      },
      "source": [
        "hormigas(problem, 5000)"
      ],
      "execution_count": 0,
      "outputs": [
        {
          "output_type": "stream",
          "text": [
            "[0, 3, 20, 23, 32, 29, 21, 35, 7, 38, 4, 2, 41, 9, 22, 40, 24, 34, 39, 8, 16, 17, 37, 14, 11, 18, 25, 26, 1, 33, 31, 6, 5, 13, 15, 27, 30, 28, 12, 10, 19, 36]\n",
            "3753\n"
          ],
          "name": "stdout"
        }
      ]
    }
  ]
}